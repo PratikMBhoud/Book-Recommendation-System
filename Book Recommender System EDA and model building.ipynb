{
 "cells": [
  {
   "cell_type": "code",
   "execution_count": 118,
   "id": "5855c0ec",
   "metadata": {},
   "outputs": [],
   "source": [
    "import warnings \n",
    "warnings.filterwarnings('ignore')"
   ]
  },
  {
   "cell_type": "code",
   "execution_count": 119,
   "id": "eb054640",
   "metadata": {},
   "outputs": [],
   "source": [
    "import pandas as pd\n",
    "import numpy as np\n",
    "import matplotlib.pyplot as plt\n",
    "import seaborn as sns"
   ]
  },
  {
   "cell_type": "markdown",
   "id": "c136a840",
   "metadata": {},
   "source": [
    "#### 1. Books Dataset"
   ]
  },
  {
   "cell_type": "code",
   "execution_count": 120,
   "id": "663c02d9",
   "metadata": {},
   "outputs": [],
   "source": [
    "books = pd.read_csv('Books.csv', encoding='latin1')"
   ]
  },
  {
   "cell_type": "code",
   "execution_count": 121,
   "id": "f5ce9911",
   "metadata": {},
   "outputs": [
    {
     "data": {
      "text/html": [
       "<div>\n",
       "<style scoped>\n",
       "    .dataframe tbody tr th:only-of-type {\n",
       "        vertical-align: middle;\n",
       "    }\n",
       "\n",
       "    .dataframe tbody tr th {\n",
       "        vertical-align: top;\n",
       "    }\n",
       "\n",
       "    .dataframe thead th {\n",
       "        text-align: right;\n",
       "    }\n",
       "</style>\n",
       "<table border=\"1\" class=\"dataframe\">\n",
       "  <thead>\n",
       "    <tr style=\"text-align: right;\">\n",
       "      <th></th>\n",
       "      <th>ISBN</th>\n",
       "      <th>Book-Title</th>\n",
       "      <th>Book-Author</th>\n",
       "      <th>Year-Of-Publication</th>\n",
       "      <th>Publisher</th>\n",
       "      <th>Image-URL-S</th>\n",
       "      <th>Image-URL-M</th>\n",
       "      <th>Image-URL-L</th>\n",
       "    </tr>\n",
       "  </thead>\n",
       "  <tbody>\n",
       "    <tr>\n",
       "      <th>0</th>\n",
       "      <td>0195153448</td>\n",
       "      <td>Classical Mythology</td>\n",
       "      <td>Mark P. O. Morford</td>\n",
       "      <td>2002</td>\n",
       "      <td>Oxford University Press</td>\n",
       "      <td>http://images.amazon.com/images/P/0195153448.0...</td>\n",
       "      <td>http://images.amazon.com/images/P/0195153448.0...</td>\n",
       "      <td>http://images.amazon.com/images/P/0195153448.0...</td>\n",
       "    </tr>\n",
       "    <tr>\n",
       "      <th>1</th>\n",
       "      <td>0002005018</td>\n",
       "      <td>Clara Callan</td>\n",
       "      <td>Richard Bruce Wright</td>\n",
       "      <td>2001</td>\n",
       "      <td>HarperFlamingo Canada</td>\n",
       "      <td>http://images.amazon.com/images/P/0002005018.0...</td>\n",
       "      <td>http://images.amazon.com/images/P/0002005018.0...</td>\n",
       "      <td>http://images.amazon.com/images/P/0002005018.0...</td>\n",
       "    </tr>\n",
       "    <tr>\n",
       "      <th>2</th>\n",
       "      <td>0060973129</td>\n",
       "      <td>Decision in Normandy</td>\n",
       "      <td>Carlo D'Este</td>\n",
       "      <td>1991</td>\n",
       "      <td>HarperPerennial</td>\n",
       "      <td>http://images.amazon.com/images/P/0060973129.0...</td>\n",
       "      <td>http://images.amazon.com/images/P/0060973129.0...</td>\n",
       "      <td>http://images.amazon.com/images/P/0060973129.0...</td>\n",
       "    </tr>\n",
       "    <tr>\n",
       "      <th>3</th>\n",
       "      <td>0374157065</td>\n",
       "      <td>Flu: The Story of the Great Influenza Pandemic...</td>\n",
       "      <td>Gina Bari Kolata</td>\n",
       "      <td>1999</td>\n",
       "      <td>Farrar Straus Giroux</td>\n",
       "      <td>http://images.amazon.com/images/P/0374157065.0...</td>\n",
       "      <td>http://images.amazon.com/images/P/0374157065.0...</td>\n",
       "      <td>http://images.amazon.com/images/P/0374157065.0...</td>\n",
       "    </tr>\n",
       "    <tr>\n",
       "      <th>4</th>\n",
       "      <td>0393045218</td>\n",
       "      <td>The Mummies of Urumchi</td>\n",
       "      <td>E. J. W. Barber</td>\n",
       "      <td>1999</td>\n",
       "      <td>W. W. Norton &amp;amp; Company</td>\n",
       "      <td>http://images.amazon.com/images/P/0393045218.0...</td>\n",
       "      <td>http://images.amazon.com/images/P/0393045218.0...</td>\n",
       "      <td>http://images.amazon.com/images/P/0393045218.0...</td>\n",
       "    </tr>\n",
       "  </tbody>\n",
       "</table>\n",
       "</div>"
      ],
      "text/plain": [
       "         ISBN                                         Book-Title  \\\n",
       "0  0195153448                                Classical Mythology   \n",
       "1  0002005018                                       Clara Callan   \n",
       "2  0060973129                               Decision in Normandy   \n",
       "3  0374157065  Flu: The Story of the Great Influenza Pandemic...   \n",
       "4  0393045218                             The Mummies of Urumchi   \n",
       "\n",
       "            Book-Author  Year-Of-Publication                   Publisher  \\\n",
       "0    Mark P. O. Morford                 2002     Oxford University Press   \n",
       "1  Richard Bruce Wright                 2001       HarperFlamingo Canada   \n",
       "2          Carlo D'Este                 1991             HarperPerennial   \n",
       "3      Gina Bari Kolata                 1999        Farrar Straus Giroux   \n",
       "4       E. J. W. Barber                 1999  W. W. Norton &amp; Company   \n",
       "\n",
       "                                         Image-URL-S  \\\n",
       "0  http://images.amazon.com/images/P/0195153448.0...   \n",
       "1  http://images.amazon.com/images/P/0002005018.0...   \n",
       "2  http://images.amazon.com/images/P/0060973129.0...   \n",
       "3  http://images.amazon.com/images/P/0374157065.0...   \n",
       "4  http://images.amazon.com/images/P/0393045218.0...   \n",
       "\n",
       "                                         Image-URL-M  \\\n",
       "0  http://images.amazon.com/images/P/0195153448.0...   \n",
       "1  http://images.amazon.com/images/P/0002005018.0...   \n",
       "2  http://images.amazon.com/images/P/0060973129.0...   \n",
       "3  http://images.amazon.com/images/P/0374157065.0...   \n",
       "4  http://images.amazon.com/images/P/0393045218.0...   \n",
       "\n",
       "                                         Image-URL-L  \n",
       "0  http://images.amazon.com/images/P/0195153448.0...  \n",
       "1  http://images.amazon.com/images/P/0002005018.0...  \n",
       "2  http://images.amazon.com/images/P/0060973129.0...  \n",
       "3  http://images.amazon.com/images/P/0374157065.0...  \n",
       "4  http://images.amazon.com/images/P/0393045218.0...  "
      ]
     },
     "execution_count": 121,
     "metadata": {},
     "output_type": "execute_result"
    }
   ],
   "source": [
    "books.head()"
   ]
  },
  {
   "cell_type": "code",
   "execution_count": 122,
   "id": "8a59d7d2",
   "metadata": {},
   "outputs": [
    {
     "data": {
      "text/plain": [
       "Index(['ISBN', 'Book-Title', 'Book-Author', 'Year-Of-Publication', 'Publisher',\n",
       "       'Image-URL-S', 'Image-URL-M', 'Image-URL-L'],\n",
       "      dtype='object')"
      ]
     },
     "execution_count": 122,
     "metadata": {},
     "output_type": "execute_result"
    }
   ],
   "source": [
    "books.columns"
   ]
  },
  {
   "cell_type": "code",
   "execution_count": 123,
   "id": "9fa8a4bc",
   "metadata": {},
   "outputs": [],
   "source": [
    "books.columns = books.columns.str.lower()"
   ]
  },
  {
   "cell_type": "code",
   "execution_count": 124,
   "id": "3448946f",
   "metadata": {},
   "outputs": [],
   "source": [
    "books.columns = books.columns.str.replace('-','_')"
   ]
  },
  {
   "cell_type": "code",
   "execution_count": 125,
   "id": "7af98dad",
   "metadata": {},
   "outputs": [
    {
     "data": {
      "text/plain": [
       "Index(['isbn', 'book_title', 'book_author', 'year_of_publication', 'publisher',\n",
       "       'image_url_s', 'image_url_m', 'image_url_l'],\n",
       "      dtype='object')"
      ]
     },
     "execution_count": 125,
     "metadata": {},
     "output_type": "execute_result"
    }
   ],
   "source": [
    "books.columns"
   ]
  },
  {
   "cell_type": "code",
   "execution_count": 126,
   "id": "a4c776a1",
   "metadata": {},
   "outputs": [
    {
     "data": {
      "text/plain": [
       "(135394, 8)"
      ]
     },
     "execution_count": 126,
     "metadata": {},
     "output_type": "execute_result"
    }
   ],
   "source": [
    "books.shape"
   ]
  },
  {
   "cell_type": "code",
   "execution_count": 127,
   "id": "a78047c9",
   "metadata": {},
   "outputs": [
    {
     "data": {
      "text/plain": [
       "False    135394\n",
       "Name: count, dtype: int64"
      ]
     },
     "execution_count": 127,
     "metadata": {},
     "output_type": "execute_result"
    }
   ],
   "source": [
    "books.duplicated().value_counts()"
   ]
  },
  {
   "cell_type": "code",
   "execution_count": 128,
   "id": "75259e10",
   "metadata": {},
   "outputs": [
    {
     "data": {
      "text/plain": [
       "isbn                   0\n",
       "book_title             0\n",
       "book_author            1\n",
       "year_of_publication    0\n",
       "publisher              2\n",
       "image_url_s            0\n",
       "image_url_m            0\n",
       "image_url_l            0\n",
       "dtype: int64"
      ]
     },
     "execution_count": 128,
     "metadata": {},
     "output_type": "execute_result"
    }
   ],
   "source": [
    "books.isnull().sum()"
   ]
  },
  {
   "cell_type": "code",
   "execution_count": 129,
   "id": "b4859307",
   "metadata": {},
   "outputs": [
    {
     "name": "stdout",
     "output_type": "stream",
     "text": [
      "<class 'pandas.core.frame.DataFrame'>\n",
      "RangeIndex: 135394 entries, 0 to 135393\n",
      "Data columns (total 8 columns):\n",
      " #   Column               Non-Null Count   Dtype \n",
      "---  ------               --------------   ----- \n",
      " 0   isbn                 135394 non-null  object\n",
      " 1   book_title           135394 non-null  object\n",
      " 2   book_author          135393 non-null  object\n",
      " 3   year_of_publication  135394 non-null  int64 \n",
      " 4   publisher            135392 non-null  object\n",
      " 5   image_url_s          135394 non-null  object\n",
      " 6   image_url_m          135394 non-null  object\n",
      " 7   image_url_l          135394 non-null  object\n",
      "dtypes: int64(1), object(7)\n",
      "memory usage: 8.3+ MB\n"
     ]
    }
   ],
   "source": [
    "books.info()"
   ]
  },
  {
   "cell_type": "code",
   "execution_count": 130,
   "id": "960ca851",
   "metadata": {},
   "outputs": [
    {
     "data": {
      "text/plain": [
       "isbn                   135394\n",
       "book_title             122413\n",
       "book_author             54920\n",
       "year_of_publication        97\n",
       "publisher                9935\n",
       "image_url_s            135300\n",
       "image_url_m            135300\n",
       "image_url_l            135300\n",
       "dtype: int64"
      ]
     },
     "execution_count": 130,
     "metadata": {},
     "output_type": "execute_result"
    }
   ],
   "source": [
    "books.nunique()"
   ]
  },
  {
   "cell_type": "code",
   "execution_count": 131,
   "id": "7f290872",
   "metadata": {},
   "outputs": [
    {
     "data": {
      "text/plain": [
       "dtype('int64')"
      ]
     },
     "execution_count": 131,
     "metadata": {},
     "output_type": "execute_result"
    }
   ],
   "source": [
    "books['year_of_publication'].dtype"
   ]
  },
  {
   "cell_type": "code",
   "execution_count": 132,
   "id": "d2bb2062",
   "metadata": {},
   "outputs": [],
   "source": [
    "books['year_of_publication_numeric'] = pd.to_numeric(books['year_of_publication'], errors='coerce')"
   ]
  },
  {
   "cell_type": "code",
   "execution_count": 133,
   "id": "c27a9b12",
   "metadata": {},
   "outputs": [
    {
     "data": {
      "text/html": [
       "<div>\n",
       "<style scoped>\n",
       "    .dataframe tbody tr th:only-of-type {\n",
       "        vertical-align: middle;\n",
       "    }\n",
       "\n",
       "    .dataframe tbody tr th {\n",
       "        vertical-align: top;\n",
       "    }\n",
       "\n",
       "    .dataframe thead th {\n",
       "        text-align: right;\n",
       "    }\n",
       "</style>\n",
       "<table border=\"1\" class=\"dataframe\">\n",
       "  <thead>\n",
       "    <tr style=\"text-align: right;\">\n",
       "      <th></th>\n",
       "      <th>isbn</th>\n",
       "      <th>book_title</th>\n",
       "      <th>book_author</th>\n",
       "      <th>year_of_publication</th>\n",
       "      <th>publisher</th>\n",
       "      <th>image_url_s</th>\n",
       "      <th>image_url_m</th>\n",
       "      <th>image_url_l</th>\n",
       "      <th>year_of_publication_numeric</th>\n",
       "    </tr>\n",
       "  </thead>\n",
       "  <tbody>\n",
       "  </tbody>\n",
       "</table>\n",
       "</div>"
      ],
      "text/plain": [
       "Empty DataFrame\n",
       "Columns: [isbn, book_title, book_author, year_of_publication, publisher, image_url_s, image_url_m, image_url_l, year_of_publication_numeric]\n",
       "Index: []"
      ]
     },
     "execution_count": 133,
     "metadata": {},
     "output_type": "execute_result"
    }
   ],
   "source": [
    "error_books_rows = books[books['year_of_publication_numeric'].isna()]\n",
    "error_books_rows"
   ]
  },
  {
   "cell_type": "code",
   "execution_count": 134,
   "id": "a622b596",
   "metadata": {},
   "outputs": [
    {
     "data": {
      "text/html": [
       "<div>\n",
       "<style scoped>\n",
       "    .dataframe tbody tr th:only-of-type {\n",
       "        vertical-align: middle;\n",
       "    }\n",
       "\n",
       "    .dataframe tbody tr th {\n",
       "        vertical-align: top;\n",
       "    }\n",
       "\n",
       "    .dataframe thead th {\n",
       "        text-align: right;\n",
       "    }\n",
       "</style>\n",
       "<table border=\"1\" class=\"dataframe\">\n",
       "  <thead>\n",
       "    <tr style=\"text-align: right;\">\n",
       "      <th></th>\n",
       "    </tr>\n",
       "  </thead>\n",
       "  <tbody>\n",
       "  </tbody>\n",
       "</table>\n",
       "</div>"
      ],
      "text/plain": [
       "Empty DataFrame\n",
       "Columns: []\n",
       "Index: []"
      ]
     },
     "execution_count": 134,
     "metadata": {},
     "output_type": "execute_result"
    }
   ],
   "source": [
    "split_titles = error_books_rows['book_title'].str.split(r';', expand=True)\n",
    "split_titles"
   ]
  },
  {
   "cell_type": "code",
   "execution_count": 135,
   "id": "0a7338b6",
   "metadata": {},
   "outputs": [],
   "source": [
    "def shift_data(row):\n",
    "    if not row['year_of_publication'].isdigit():\n",
    "        row['image_url_l'] = row['image_url_m']\n",
    "        row['image_url_m'] = row['image_url_s']\n",
    "        row['image_url_s'] = row['publisher']\n",
    "        row['publisher'] = row['year_of_publication']\n",
    "        row['year_of_publication'] = row['book_author']\n",
    "        row['book_author'] = row['book_title'].split(';')[1].strip().strip('\"')\n",
    "        row['book_title'] = row['book_title'].split(';')[0]\n",
    "    return row"
   ]
  },
  {
   "cell_type": "code",
   "execution_count": 136,
   "id": "b370428a",
   "metadata": {},
   "outputs": [
    {
     "data": {
      "text/html": [
       "<div>\n",
       "<style scoped>\n",
       "    .dataframe tbody tr th:only-of-type {\n",
       "        vertical-align: middle;\n",
       "    }\n",
       "\n",
       "    .dataframe tbody tr th {\n",
       "        vertical-align: top;\n",
       "    }\n",
       "\n",
       "    .dataframe thead th {\n",
       "        text-align: right;\n",
       "    }\n",
       "</style>\n",
       "<table border=\"1\" class=\"dataframe\">\n",
       "  <thead>\n",
       "    <tr style=\"text-align: right;\">\n",
       "      <th></th>\n",
       "      <th>isbn</th>\n",
       "      <th>book_title</th>\n",
       "      <th>book_author</th>\n",
       "      <th>year_of_publication</th>\n",
       "      <th>publisher</th>\n",
       "      <th>image_url_s</th>\n",
       "      <th>image_url_m</th>\n",
       "      <th>image_url_l</th>\n",
       "      <th>year_of_publication_numeric</th>\n",
       "    </tr>\n",
       "  </thead>\n",
       "  <tbody>\n",
       "  </tbody>\n",
       "</table>\n",
       "</div>"
      ],
      "text/plain": [
       "Empty DataFrame\n",
       "Columns: [isbn, book_title, book_author, year_of_publication, publisher, image_url_s, image_url_m, image_url_l, year_of_publication_numeric]\n",
       "Index: []"
      ]
     },
     "execution_count": 136,
     "metadata": {},
     "output_type": "execute_result"
    }
   ],
   "source": [
    "books_corrected = error_books_rows.apply(shift_data, axis=1)\n",
    "books_corrected"
   ]
  },
  {
   "cell_type": "code",
   "execution_count": 137,
   "id": "83b48b1b",
   "metadata": {},
   "outputs": [],
   "source": [
    "books.update(books_corrected)"
   ]
  },
  {
   "cell_type": "code",
   "execution_count": 138,
   "id": "1510cbf0",
   "metadata": {},
   "outputs": [
    {
     "data": {
      "text/html": [
       "<div>\n",
       "<style scoped>\n",
       "    .dataframe tbody tr th:only-of-type {\n",
       "        vertical-align: middle;\n",
       "    }\n",
       "\n",
       "    .dataframe tbody tr th {\n",
       "        vertical-align: top;\n",
       "    }\n",
       "\n",
       "    .dataframe thead th {\n",
       "        text-align: right;\n",
       "    }\n",
       "</style>\n",
       "<table border=\"1\" class=\"dataframe\">\n",
       "  <thead>\n",
       "    <tr style=\"text-align: right;\">\n",
       "      <th></th>\n",
       "      <th>isbn</th>\n",
       "      <th>book_title</th>\n",
       "      <th>book_author</th>\n",
       "      <th>year_of_publication</th>\n",
       "      <th>publisher</th>\n",
       "      <th>image_url_s</th>\n",
       "      <th>image_url_m</th>\n",
       "      <th>image_url_l</th>\n",
       "      <th>year_of_publication_numeric</th>\n",
       "    </tr>\n",
       "  </thead>\n",
       "  <tbody>\n",
       "  </tbody>\n",
       "</table>\n",
       "</div>"
      ],
      "text/plain": [
       "Empty DataFrame\n",
       "Columns: [isbn, book_title, book_author, year_of_publication, publisher, image_url_s, image_url_m, image_url_l, year_of_publication_numeric]\n",
       "Index: []"
      ]
     },
     "execution_count": 138,
     "metadata": {},
     "output_type": "execute_result"
    }
   ],
   "source": [
    "books[books['isbn'] == '078946697X']"
   ]
  },
  {
   "cell_type": "code",
   "execution_count": 139,
   "id": "61ec1ebf",
   "metadata": {},
   "outputs": [],
   "source": [
    "books.drop('year_of_publication_numeric',axis=1,inplace=True)"
   ]
  },
  {
   "cell_type": "code",
   "execution_count": 140,
   "id": "af7428d5",
   "metadata": {},
   "outputs": [],
   "source": [
    "books['year_of_publication'] = books['year_of_publication'].astype(int)"
   ]
  },
  {
   "cell_type": "code",
   "execution_count": 141,
   "id": "0b0155da",
   "metadata": {},
   "outputs": [
    {
     "data": {
      "text/plain": [
       "isbn                   object\n",
       "book_title             object\n",
       "book_author            object\n",
       "year_of_publication     int32\n",
       "publisher              object\n",
       "image_url_s            object\n",
       "image_url_m            object\n",
       "image_url_l            object\n",
       "dtype: object"
      ]
     },
     "execution_count": 141,
     "metadata": {},
     "output_type": "execute_result"
    }
   ],
   "source": [
    "books.dtypes"
   ]
  },
  {
   "cell_type": "code",
   "execution_count": 142,
   "id": "1530f5a5",
   "metadata": {},
   "outputs": [
    {
     "data": {
      "text/plain": [
       "count    135394.000000\n",
       "mean       1959.011588\n",
       "std         263.226268\n",
       "min           0.000000\n",
       "25%        1990.000000\n",
       "50%        1996.000000\n",
       "75%        2000.000000\n",
       "max        2050.000000\n",
       "Name: year_of_publication, dtype: float64"
      ]
     },
     "execution_count": 142,
     "metadata": {},
     "output_type": "execute_result"
    }
   ],
   "source": [
    "books['year_of_publication'].describe()"
   ]
  },
  {
   "cell_type": "code",
   "execution_count": 143,
   "id": "367ccf28",
   "metadata": {},
   "outputs": [
    {
     "data": {
      "text/plain": [
       "array([   0, 1900, 1902, 1904, 1910, 1911, 1914, 1920, 1921, 1923, 1924,\n",
       "       1925, 1926, 1927, 1928, 1929, 1930, 1931, 1932, 1933, 1934, 1936,\n",
       "       1937, 1938, 1939, 1940, 1941, 1942, 1943, 1944, 1945, 1946, 1947,\n",
       "       1948, 1949, 1950, 1951, 1952, 1953, 1954, 1955, 1956, 1957, 1958,\n",
       "       1959, 1960, 1961, 1962, 1963, 1964, 1965, 1966, 1967, 1968, 1969,\n",
       "       1970, 1971, 1972, 1973, 1974, 1975, 1976, 1977, 1978, 1979, 1980,\n",
       "       1981, 1982, 1983, 1984, 1985, 1986, 1987, 1988, 1989, 1990, 1991,\n",
       "       1992, 1993, 1994, 1995, 1996, 1997, 1998, 1999, 2000, 2001, 2002,\n",
       "       2003, 2004, 2005, 2011, 2020, 2026, 2030, 2038, 2050])"
      ]
     },
     "execution_count": 143,
     "metadata": {},
     "output_type": "execute_result"
    }
   ],
   "source": [
    "unique_years = books['year_of_publication'].unique()\n",
    "np.sort(unique_years)"
   ]
  },
  {
   "cell_type": "code",
   "execution_count": 144,
   "id": "46ddb4d1",
   "metadata": {},
   "outputs": [
    {
     "data": {
      "text/plain": [
       "2002"
      ]
     },
     "execution_count": 144,
     "metadata": {},
     "output_type": "execute_result"
    }
   ],
   "source": [
    "most_frequent_year = books['year_of_publication'].mode()[0]\n",
    "most_frequent_year"
   ]
  },
  {
   "cell_type": "code",
   "execution_count": 145,
   "id": "cec7217e",
   "metadata": {},
   "outputs": [
    {
     "data": {
      "text/plain": [
       "year_of_publication\n",
       "2002    9799\n",
       "2001    9505\n",
       "2000    8972\n",
       "1999    8903\n",
       "2003    8471\n",
       "        ... \n",
       "1927       1\n",
       "1928       1\n",
       "1904       1\n",
       "2011       1\n",
       "1944       1\n",
       "Name: count, Length: 97, dtype: int64"
      ]
     },
     "execution_count": 145,
     "metadata": {},
     "output_type": "execute_result"
    }
   ],
   "source": [
    "books['year_of_publication'].value_counts()"
   ]
  },
  {
   "cell_type": "code",
   "execution_count": 146,
   "id": "b74ee263",
   "metadata": {},
   "outputs": [],
   "source": [
    "books.loc[(books['year_of_publication'] < 1800) | (books['year_of_publication'] > 2024), 'year_of_publication'] = most_frequent_year"
   ]
  },
  {
   "cell_type": "code",
   "execution_count": 147,
   "id": "98863a93",
   "metadata": {},
   "outputs": [
    {
     "data": {
      "text/plain": [
       "array([1900, 1902, 1904, 1910, 1911, 1914, 1920, 1921, 1923, 1924, 1925,\n",
       "       1926, 1927, 1928, 1929, 1930, 1931, 1932, 1933, 1934, 1936, 1937,\n",
       "       1938, 1939, 1940, 1941, 1942, 1943, 1944, 1945, 1946, 1947, 1948,\n",
       "       1949, 1950, 1951, 1952, 1953, 1954, 1955, 1956, 1957, 1958, 1959,\n",
       "       1960, 1961, 1962, 1963, 1964, 1965, 1966, 1967, 1968, 1969, 1970,\n",
       "       1971, 1972, 1973, 1974, 1975, 1976, 1977, 1978, 1979, 1980, 1981,\n",
       "       1982, 1983, 1984, 1985, 1986, 1987, 1988, 1989, 1990, 1991, 1992,\n",
       "       1993, 1994, 1995, 1996, 1997, 1998, 1999, 2000, 2001, 2002, 2003,\n",
       "       2004, 2005, 2011, 2020])"
      ]
     },
     "execution_count": 147,
     "metadata": {},
     "output_type": "execute_result"
    }
   ],
   "source": [
    "unique_years = books['year_of_publication'].unique()\n",
    "np.sort(unique_years)"
   ]
  },
  {
   "cell_type": "code",
   "execution_count": 148,
   "id": "105556ff",
   "metadata": {},
   "outputs": [
    {
     "data": {
      "text/plain": [
       "isbn                   0\n",
       "book_title             0\n",
       "book_author            1\n",
       "year_of_publication    0\n",
       "publisher              2\n",
       "image_url_s            0\n",
       "image_url_m            0\n",
       "image_url_l            0\n",
       "dtype: int64"
      ]
     },
     "execution_count": 148,
     "metadata": {},
     "output_type": "execute_result"
    }
   ],
   "source": [
    "books.isnull().sum()"
   ]
  },
  {
   "cell_type": "code",
   "execution_count": 149,
   "id": "dbebf03a",
   "metadata": {},
   "outputs": [
    {
     "data": {
      "text/html": [
       "<div>\n",
       "<style scoped>\n",
       "    .dataframe tbody tr th:only-of-type {\n",
       "        vertical-align: middle;\n",
       "    }\n",
       "\n",
       "    .dataframe tbody tr th {\n",
       "        vertical-align: top;\n",
       "    }\n",
       "\n",
       "    .dataframe thead th {\n",
       "        text-align: right;\n",
       "    }\n",
       "</style>\n",
       "<table border=\"1\" class=\"dataframe\">\n",
       "  <thead>\n",
       "    <tr style=\"text-align: right;\">\n",
       "      <th></th>\n",
       "      <th>isbn</th>\n",
       "      <th>book_title</th>\n",
       "      <th>book_author</th>\n",
       "      <th>year_of_publication</th>\n",
       "      <th>publisher</th>\n",
       "      <th>image_url_s</th>\n",
       "      <th>image_url_m</th>\n",
       "      <th>image_url_l</th>\n",
       "    </tr>\n",
       "  </thead>\n",
       "  <tbody>\n",
       "    <tr>\n",
       "      <th>128890</th>\n",
       "      <td>193169656X</td>\n",
       "      <td>Tyrant Moon</td>\n",
       "      <td>Elaine Corvidae</td>\n",
       "      <td>2002</td>\n",
       "      <td>NaN</td>\n",
       "      <td>http://images.amazon.com/images/P/193169656X.0...</td>\n",
       "      <td>http://images.amazon.com/images/P/193169656X.0...</td>\n",
       "      <td>http://images.amazon.com/images/P/193169656X.0...</td>\n",
       "    </tr>\n",
       "    <tr>\n",
       "      <th>129037</th>\n",
       "      <td>1931696993</td>\n",
       "      <td>Finders Keepers</td>\n",
       "      <td>Linnea Sinclair</td>\n",
       "      <td>2001</td>\n",
       "      <td>NaN</td>\n",
       "      <td>http://images.amazon.com/images/P/1931696993.0...</td>\n",
       "      <td>http://images.amazon.com/images/P/1931696993.0...</td>\n",
       "      <td>http://images.amazon.com/images/P/1931696993.0...</td>\n",
       "    </tr>\n",
       "  </tbody>\n",
       "</table>\n",
       "</div>"
      ],
      "text/plain": [
       "              isbn       book_title      book_author  year_of_publication  \\\n",
       "128890  193169656X      Tyrant Moon  Elaine Corvidae                 2002   \n",
       "129037  1931696993  Finders Keepers  Linnea Sinclair                 2001   \n",
       "\n",
       "       publisher                                        image_url_s  \\\n",
       "128890       NaN  http://images.amazon.com/images/P/193169656X.0...   \n",
       "129037       NaN  http://images.amazon.com/images/P/1931696993.0...   \n",
       "\n",
       "                                              image_url_m  \\\n",
       "128890  http://images.amazon.com/images/P/193169656X.0...   \n",
       "129037  http://images.amazon.com/images/P/1931696993.0...   \n",
       "\n",
       "                                              image_url_l  \n",
       "128890  http://images.amazon.com/images/P/193169656X.0...  \n",
       "129037  http://images.amazon.com/images/P/1931696993.0...  "
      ]
     },
     "execution_count": 149,
     "metadata": {},
     "output_type": "execute_result"
    }
   ],
   "source": [
    "books.loc[books.publisher.isnull(),:]"
   ]
  },
  {
   "cell_type": "code",
   "execution_count": 150,
   "id": "957298b8",
   "metadata": {},
   "outputs": [],
   "source": [
    "books.publisher.fillna('other',inplace=True)"
   ]
  },
  {
   "cell_type": "code",
   "execution_count": 151,
   "id": "68580902",
   "metadata": {},
   "outputs": [
    {
     "data": {
      "text/html": [
       "<div>\n",
       "<style scoped>\n",
       "    .dataframe tbody tr th:only-of-type {\n",
       "        vertical-align: middle;\n",
       "    }\n",
       "\n",
       "    .dataframe tbody tr th {\n",
       "        vertical-align: top;\n",
       "    }\n",
       "\n",
       "    .dataframe thead th {\n",
       "        text-align: right;\n",
       "    }\n",
       "</style>\n",
       "<table border=\"1\" class=\"dataframe\">\n",
       "  <thead>\n",
       "    <tr style=\"text-align: right;\">\n",
       "      <th></th>\n",
       "      <th>isbn</th>\n",
       "      <th>book_title</th>\n",
       "      <th>book_author</th>\n",
       "      <th>year_of_publication</th>\n",
       "      <th>publisher</th>\n",
       "      <th>image_url_s</th>\n",
       "      <th>image_url_m</th>\n",
       "      <th>image_url_l</th>\n",
       "    </tr>\n",
       "  </thead>\n",
       "  <tbody>\n",
       "    <tr>\n",
       "      <th>118033</th>\n",
       "      <td>0751352497</td>\n",
       "      <td>A+ Quiz Masters:01 Earth</td>\n",
       "      <td>NaN</td>\n",
       "      <td>1999</td>\n",
       "      <td>Dorling Kindersley</td>\n",
       "      <td>http://images.amazon.com/images/P/0751352497.0...</td>\n",
       "      <td>http://images.amazon.com/images/P/0751352497.0...</td>\n",
       "      <td>http://images.amazon.com/images/P/0751352497.0...</td>\n",
       "    </tr>\n",
       "  </tbody>\n",
       "</table>\n",
       "</div>"
      ],
      "text/plain": [
       "              isbn                book_title book_author  year_of_publication  \\\n",
       "118033  0751352497  A+ Quiz Masters:01 Earth         NaN                 1999   \n",
       "\n",
       "                 publisher                                        image_url_s  \\\n",
       "118033  Dorling Kindersley  http://images.amazon.com/images/P/0751352497.0...   \n",
       "\n",
       "                                              image_url_m  \\\n",
       "118033  http://images.amazon.com/images/P/0751352497.0...   \n",
       "\n",
       "                                              image_url_l  \n",
       "118033  http://images.amazon.com/images/P/0751352497.0...  "
      ]
     },
     "execution_count": 151,
     "metadata": {},
     "output_type": "execute_result"
    }
   ],
   "source": [
    "books.loc[books.book_author.isnull(),:]"
   ]
  },
  {
   "cell_type": "code",
   "execution_count": 152,
   "id": "9c2c3c90",
   "metadata": {},
   "outputs": [],
   "source": [
    "books.book_author.fillna('other',inplace=True)"
   ]
  },
  {
   "cell_type": "code",
   "execution_count": 153,
   "id": "067460ee",
   "metadata": {
    "scrolled": true
   },
   "outputs": [
    {
     "data": {
      "text/plain": [
       "isbn                   0\n",
       "book_title             0\n",
       "book_author            0\n",
       "year_of_publication    0\n",
       "publisher              0\n",
       "image_url_s            0\n",
       "image_url_m            0\n",
       "image_url_l            0\n",
       "dtype: int64"
      ]
     },
     "execution_count": 153,
     "metadata": {},
     "output_type": "execute_result"
    }
   ],
   "source": [
    "books.isnull().sum()"
   ]
  },
  {
   "cell_type": "markdown",
   "id": "6621d0c7",
   "metadata": {},
   "source": [
    "#### Top 10 Authors with Most Written Books"
   ]
  },
  {
   "cell_type": "code",
   "execution_count": 154,
   "id": "fa5b7c4f",
   "metadata": {
    "scrolled": false
   },
   "outputs": [
    {
     "data": {
      "text/plain": [
       "Text(0.5, 1.0, 'Top 10 Authors')"
      ]
     },
     "execution_count": 154,
     "metadata": {},
     "output_type": "execute_result"
    },
    {
     "data": {
      "image/png": "[encoded data removed]",
      "text/plain": [
       "<Figure size 1500x700 with 1 Axes>"
      ]
     },
     "metadata": {},
     "output_type": "display_data"
    }
   ],
   "source": [
    "plt.figure(figsize=(15,7))\n",
    "sns.countplot(y='book_author',data=books,order=pd.value_counts(books['book_author']).iloc[:10].index,palette='viridis')\n",
    "plt.title('Top 10 Authors')"
   ]
  },
  {
   "cell_type": "markdown",
   "id": "39cac11c",
   "metadata": {},
   "source": [
    "#### Top 10 Publishers with Most Books Published"
   ]
  },
  {
   "cell_type": "code",
   "execution_count": 155,
   "id": "21a53c4b",
   "metadata": {},
   "outputs": [
    {
     "data": {
      "text/plain": [
       "Text(0.5, 1.0, 'Top 10 Publishers')"
      ]
     },
     "execution_count": 155,
     "metadata": {},
     "output_type": "execute_result"
    },
    {
     "data": {
      "image/png": "[encoded data removed]",
      "text/plain": [
       "<Figure size 1500x700 with 1 Axes>"
      ]
     },
     "metadata": {},
     "output_type": "display_data"
    }
   ],
   "source": [
    "plt.figure(figsize=(15,7))\n",
    "sns.countplot(y='publisher',data=books,order=pd.value_counts(books['publisher']).iloc[:10].index,palette='coolwarm')\n",
    "plt.title('Top 10 Publishers')"
   ]
  },
  {
   "cell_type": "markdown",
   "id": "9561576c",
   "metadata": {},
   "source": [
    "#### Year wise Publications"
   ]
  },
  {
   "cell_type": "code",
   "execution_count": 156,
   "id": "c4e69118",
   "metadata": {},
   "outputs": [
    {
     "data": {
      "image/png": "[encoded data removed]",
      "text/plain": [
       "<Figure size 1600x500 with 1 Axes>"
      ]
     },
     "metadata": {},
     "output_type": "display_data"
    }
   ],
   "source": [
    "publication_counts = books['year_of_publication'].value_counts().sort_index()\n",
    "plt.figure(figsize=(16, 5))\n",
    "plt.plot(publication_counts.index, publication_counts.values)\n",
    "plt.title('Number of Publications Per Year')\n",
    "plt.xlabel('Year of Publication')\n",
    "plt.ylabel('Number of Publications')\n",
    "plt.grid(True)\n",
    "plt.show()"
   ]
  },
  {
   "cell_type": "markdown",
   "id": "f2db1155",
   "metadata": {},
   "source": [
    "#### 2 . Users Dataset"
   ]
  },
  {
   "cell_type": "code",
   "execution_count": 157,
   "id": "2ed610c6",
   "metadata": {},
   "outputs": [],
   "source": [
    "users = pd.read_csv('Users.csv', encoding='latin1')"
   ]
  },
  {
   "cell_type": "code",
   "execution_count": 158,
   "id": "c27856cf",
   "metadata": {},
   "outputs": [
    {
     "data": {
      "text/html": [
       "<div>\n",
       "<style scoped>\n",
       "    .dataframe tbody tr th:only-of-type {\n",
       "        vertical-align: middle;\n",
       "    }\n",
       "\n",
       "    .dataframe tbody tr th {\n",
       "        vertical-align: top;\n",
       "    }\n",
       "\n",
       "    .dataframe thead th {\n",
       "        text-align: right;\n",
       "    }\n",
       "</style>\n",
       "<table border=\"1\" class=\"dataframe\">\n",
       "  <thead>\n",
       "    <tr style=\"text-align: right;\">\n",
       "      <th></th>\n",
       "      <th>User-ID</th>\n",
       "      <th>Location</th>\n",
       "      <th>Age</th>\n",
       "    </tr>\n",
       "  </thead>\n",
       "  <tbody>\n",
       "    <tr>\n",
       "      <th>0</th>\n",
       "      <td>1</td>\n",
       "      <td>nyc, new york, usa</td>\n",
       "      <td>NaN</td>\n",
       "    </tr>\n",
       "    <tr>\n",
       "      <th>1</th>\n",
       "      <td>2</td>\n",
       "      <td>stockton, california, usa</td>\n",
       "      <td>18.0</td>\n",
       "    </tr>\n",
       "    <tr>\n",
       "      <th>2</th>\n",
       "      <td>3</td>\n",
       "      <td>moscow, yukon territory, russia</td>\n",
       "      <td>NaN</td>\n",
       "    </tr>\n",
       "    <tr>\n",
       "      <th>3</th>\n",
       "      <td>4</td>\n",
       "      <td>porto, v.n.gaia, portugal</td>\n",
       "      <td>17.0</td>\n",
       "    </tr>\n",
       "    <tr>\n",
       "      <th>4</th>\n",
       "      <td>5</td>\n",
       "      <td>farnborough, hants, united kingdom</td>\n",
       "      <td>NaN</td>\n",
       "    </tr>\n",
       "  </tbody>\n",
       "</table>\n",
       "</div>"
      ],
      "text/plain": [
       "   User-ID                            Location   Age\n",
       "0        1                  nyc, new york, usa   NaN\n",
       "1        2           stockton, california, usa  18.0\n",
       "2        3     moscow, yukon territory, russia   NaN\n",
       "3        4           porto, v.n.gaia, portugal  17.0\n",
       "4        5  farnborough, hants, united kingdom   NaN"
      ]
     },
     "execution_count": 158,
     "metadata": {},
     "output_type": "execute_result"
    }
   ],
   "source": [
    "users.head()"
   ]
  },
  {
   "cell_type": "code",
   "execution_count": 159,
   "id": "4ea5e117",
   "metadata": {},
   "outputs": [
    {
     "data": {
      "text/plain": [
       "(278858, 3)"
      ]
     },
     "execution_count": 159,
     "metadata": {},
     "output_type": "execute_result"
    }
   ],
   "source": [
    "users.shape"
   ]
  },
  {
   "cell_type": "code",
   "execution_count": 160,
   "id": "efe1de4d",
   "metadata": {},
   "outputs": [
    {
     "data": {
      "text/plain": [
       "False    278858\n",
       "Name: count, dtype: int64"
      ]
     },
     "execution_count": 160,
     "metadata": {},
     "output_type": "execute_result"
    }
   ],
   "source": [
    "users.duplicated().value_counts()"
   ]
  },
  {
   "cell_type": "code",
   "execution_count": 161,
   "id": "16789dde",
   "metadata": {},
   "outputs": [
    {
     "data": {
      "text/plain": [
       "User-ID          0\n",
       "Location         0\n",
       "Age         110762\n",
       "dtype: int64"
      ]
     },
     "execution_count": 161,
     "metadata": {},
     "output_type": "execute_result"
    }
   ],
   "source": [
    "users.isnull().sum()"
   ]
  },
  {
   "cell_type": "code",
   "execution_count": 162,
   "id": "1716bf2b",
   "metadata": {},
   "outputs": [],
   "source": [
    "users.columns = users.columns.str.lower()"
   ]
  },
  {
   "cell_type": "code",
   "execution_count": 163,
   "id": "c99a05f7",
   "metadata": {},
   "outputs": [],
   "source": [
    "users.columns = users.columns.str.replace('-','_')"
   ]
  },
  {
   "cell_type": "code",
   "execution_count": 164,
   "id": "0d99c690",
   "metadata": {},
   "outputs": [
    {
     "data": {
      "text/plain": [
       "Index(['user_id', 'location', 'age'], dtype='object')"
      ]
     },
     "execution_count": 164,
     "metadata": {},
     "output_type": "execute_result"
    }
   ],
   "source": [
    "users.columns"
   ]
  },
  {
   "cell_type": "code",
   "execution_count": 165,
   "id": "bb0c21f4",
   "metadata": {},
   "outputs": [
    {
     "data": {
      "text/plain": [
       "user_id     278858\n",
       "location     57339\n",
       "age            165\n",
       "dtype: int64"
      ]
     },
     "execution_count": 165,
     "metadata": {},
     "output_type": "execute_result"
    }
   ],
   "source": [
    "users.nunique()"
   ]
  },
  {
   "cell_type": "code",
   "execution_count": 166,
   "id": "3f2b191a",
   "metadata": {},
   "outputs": [
    {
     "data": {
      "text/plain": [
       "array(['nyc, new york, usa', 'stockton, california, usa',\n",
       "       'moscow, yukon territory, russia', ...,\n",
       "       'sergnano, lombardia, italy', 'stranraer, n/a, united kingdom',\n",
       "       'tacoma, washington, united kingdom'], dtype=object)"
      ]
     },
     "execution_count": 166,
     "metadata": {},
     "output_type": "execute_result"
    }
   ],
   "source": [
    "users.location.unique()"
   ]
  },
  {
   "cell_type": "code",
   "execution_count": 167,
   "id": "539f7d48",
   "metadata": {},
   "outputs": [],
   "source": [
    "users['country']=users.location.str.extract(r'\\,+\\s?(\\w*\\s?\\w*)\\\"*$')   "
   ]
  },
  {
   "cell_type": "code",
   "execution_count": 168,
   "id": "9a221c97",
   "metadata": {},
   "outputs": [
    {
     "data": {
      "text/html": [
       "<div>\n",
       "<style scoped>\n",
       "    .dataframe tbody tr th:only-of-type {\n",
       "        vertical-align: middle;\n",
       "    }\n",
       "\n",
       "    .dataframe tbody tr th {\n",
       "        vertical-align: top;\n",
       "    }\n",
       "\n",
       "    .dataframe thead th {\n",
       "        text-align: right;\n",
       "    }\n",
       "</style>\n",
       "<table border=\"1\" class=\"dataframe\">\n",
       "  <thead>\n",
       "    <tr style=\"text-align: right;\">\n",
       "      <th></th>\n",
       "      <th>user_id</th>\n",
       "      <th>location</th>\n",
       "      <th>age</th>\n",
       "      <th>country</th>\n",
       "    </tr>\n",
       "  </thead>\n",
       "  <tbody>\n",
       "    <tr>\n",
       "      <th>0</th>\n",
       "      <td>1</td>\n",
       "      <td>nyc, new york, usa</td>\n",
       "      <td>NaN</td>\n",
       "      <td>usa</td>\n",
       "    </tr>\n",
       "    <tr>\n",
       "      <th>1</th>\n",
       "      <td>2</td>\n",
       "      <td>stockton, california, usa</td>\n",
       "      <td>18.0</td>\n",
       "      <td>usa</td>\n",
       "    </tr>\n",
       "    <tr>\n",
       "      <th>2</th>\n",
       "      <td>3</td>\n",
       "      <td>moscow, yukon territory, russia</td>\n",
       "      <td>NaN</td>\n",
       "      <td>russia</td>\n",
       "    </tr>\n",
       "    <tr>\n",
       "      <th>3</th>\n",
       "      <td>4</td>\n",
       "      <td>porto, v.n.gaia, portugal</td>\n",
       "      <td>17.0</td>\n",
       "      <td>portugal</td>\n",
       "    </tr>\n",
       "    <tr>\n",
       "      <th>4</th>\n",
       "      <td>5</td>\n",
       "      <td>farnborough, hants, united kingdom</td>\n",
       "      <td>NaN</td>\n",
       "      <td>united kingdom</td>\n",
       "    </tr>\n",
       "  </tbody>\n",
       "</table>\n",
       "</div>"
      ],
      "text/plain": [
       "   user_id                            location   age         country\n",
       "0        1                  nyc, new york, usa   NaN             usa\n",
       "1        2           stockton, california, usa  18.0             usa\n",
       "2        3     moscow, yukon territory, russia   NaN          russia\n",
       "3        4           porto, v.n.gaia, portugal  17.0        portugal\n",
       "4        5  farnborough, hants, united kingdom   NaN  united kingdom"
      ]
     },
     "execution_count": 168,
     "metadata": {},
     "output_type": "execute_result"
    }
   ],
   "source": [
    "users.head()"
   ]
  },
  {
   "cell_type": "code",
   "execution_count": 169,
   "id": "2c7aa426",
   "metadata": {},
   "outputs": [
    {
     "data": {
      "text/plain": [
       "529"
      ]
     },
     "execution_count": 169,
     "metadata": {},
     "output_type": "execute_result"
    }
   ],
   "source": [
    "users.country.nunique()"
   ]
  },
  {
   "cell_type": "code",
   "execution_count": 170,
   "id": "40dc61dc",
   "metadata": {},
   "outputs": [
    {
     "data": {
      "text/plain": [
       "user_id          0\n",
       "location         0\n",
       "age         110762\n",
       "country        368\n",
       "dtype: int64"
      ]
     },
     "execution_count": 170,
     "metadata": {},
     "output_type": "execute_result"
    }
   ],
   "source": [
    "users.isnull().sum()"
   ]
  },
  {
   "cell_type": "code",
   "execution_count": 171,
   "id": "90b452cb",
   "metadata": {},
   "outputs": [],
   "source": [
    "users['country']=users['country'].astype('str')"
   ]
  },
  {
   "cell_type": "code",
   "execution_count": 172,
   "id": "28d81c58",
   "metadata": {},
   "outputs": [
    {
     "name": "stdout",
     "output_type": "stream",
     "text": [
      "['', '01776', '02458', '19104', '23232', '30064', '85021', '87510', '_ brasil', 'a', 'aaa', 'adsgfdr', 'afghanistan', 'ahrensburg', 'alachua', 'albania', 'alderney', 'algeria', 'algérie', 'allen', 'ama lurra', 'america', 'american samoa', 'andorra', 'angola', 'antarctica', 'aotearoa', 'argentina', 'armenia', 'aroostook', 'aruba', 'asturies', 'auckland', 'austbritania', 'australia', 'australii', 'austria', 'autralia', 'az', 'azerbaijan', 'bademn würtemberg', 'bahamas', 'bahrain', 'baltimore', 'bangladesh', 'barbados', 'basilicata', 'basque country', 'bavaria', 'baxter', 'bbbzzzzz', 'belarus', 'belgi', 'belgique', 'belgium', 'belize', 'bell', 'benin', 'berguedà', 'bermuda', 'bernalillo', 'bfe', 'bhutan', 'bih', 'bkk', 'bladen', 'bolivia', 'bosnia', 'botswana', 'brasil', 'brazil', 'brunei', 'brunei darussalam', 'bucks', 'bulgaria', 'buncombe', 'burkina faso', 'burkinafasu', 'burlington', 'burma', 'butler', 'c', 'cadd0', 'calabria', 'california', 'cambodia', 'camden', 'cameroon', 'can', 'canada', 'canada eh', 'cananda', 'canda', 'cape may', 'cape town', 'cape verde', 'caribbean sea', 'carter', 'cass', 'catalonia', 'catalunya', 'catalunya spain', 'cayman islands', 'chad', 'channel islands', 'cherokee', 'chian', 'chile', 'china', 'china öð¹ú', 'chinaöð¹ú', 'clackamas', 'clinton', 'cn', 'cnina', 'collin', 'colombia', 'comoros', 'congo', 'cook', 'copenhagen', 'costa rica', 'country', 'courtenay', 'croatia', 'csa', 'cuba', 'cyprus', 'czech republic', 'côte d', 'dauphin', 'davidson', 'de', 'dekalb', 'denmark', 'der', 'deutsches reich', 'deutschland', 'dfg', 'distrito federal', 'diy', 'djibouti', 'dominica', 'dominican republic', 'doodedoo', 'dublin', 'east africa', 'ecuador', 'effingham', 'egypt', 'el salvador', 'england', 'england uk', 'english', 'equatorial geuinea', 'eritrea', 'españa', 'essex', 'estonia', 'ethiopia', 'europa', 'europe', 'euskadi', 'euskal herria', 'evil empire', 'fairyland', 'faroe islands', 'ferrara', 'fifi', 'fiji', 'finland', 'fontana', 'fort bend', 'fortaleza', 'framingham', 'france', 'fred', 'frome', 'fulton', 'gabon', 'galiza', 'galiza neghra', 'gb', 'geermany', 'georgia', 'germany', 'germay', 'ghana', 'goteborg', 'granville', 'greece', 'grenada', 'guam', 'guatemala', 'guernsey', 'guinea', 'guyana', 'haiti', 'hamilton', 'hampden', 'harvatija', 'heaven', 'hennipen', 'henry', 'hernando', 'hidalgo', 'hillsborough', 'holland', 'holy see', 'honduras', 'hong kong', 'hongkong', 'hornyonic', 'houston', 'hungary', 'iceland', 'id', 'il canada', 'in', 'india', 'indiai', 'indonesia', 'input error', 'iran', 'iraq', 'ireland', 'israel', 'isreal', 'italia', 'italien', 'italy', 'itlay', 'jackson', 'jamaica', 'japan', 'jersey', 'johnson', 'jordan', 'k1c7b1', 'kazakhstan', 'kenya', 'kern', 'kiribati', 'korea', 'kosovo', 'ksa', 'kuwait', 'kyrgyzstan', 'kz', 'l', 'la argentina', 'la belgique', 'la france', 'la suisse', 'la svizzera', 'lake', 'lane', 'laos', 'latvia', 'lazio', 'le canada', 'le madagascar', 'lebanon', 'lecce', 'lee', 'lesotho', 'liaoning', 'liberia', 'libya', 'lithuania', 'liushi', 'livingston', 'lj', 'lkjlj', 'lleida', 'lombardia', 'london', 'lornsenland', 'luxembourg', 'macau', 'macedonia', 'madagascar', 'madrid', 'maine', 'malawi', 'malaysia', 'malaysian', 'maldives', 'mali', 'malta', 'maracopa', 'maricopa', 'maroc', 'marrion', 'marshall islands', 'mauritania', 'mauritius', 'mexico', 'micronesia', 'milano', 'minnehaha', 'missouri', 'moldova', 'monaco', 'mongolia', 'monroe', 'monterrey', 'mordor', 'morgan', 'morocco', 'mozambique', 'moçambique', 'my', 'myanmar', 'mérida', 'méxico', 'namibia', 'nan', 'nederlands', 'nepal', 'netherlands', 'netherlands antilles', 'neverland', 'new london', 'new zealand', 'newzealand', 'nh', 'nicaragua', 'niger', 'nigeria', 'nl', 'no more', 'none', 'north carolina', 'north korea', 'northern ireland', 'norway', 'nowhere', 'nrw', 'nyc', 'nyhamnsläge', 'nz', 'oakland', 'ohio', 'oman', 'onondaga nation', 'orange co', 'orense', 'osceola', 'ouranos', 'pa', 'pakistan', 'palau', 'palestine', 'palm beach', 'panama', 'paraguay', 'pasco', 'pender', 'peru', 'perãº', 'petrolwar nation', 'phila', 'philippine', 'philippines', 'philippinies', 'phillipines', 'phils', 'phippines', 'pinallas', 'pippo', 'pistlavakia', 'poland', 'polk', 'polska', 'portugal', 'pr', 'prc', 'prince william', 'pueblo', 'puerto rico', 'qatar', 'queensland', 'queenspark', 'quit', 'rapides', 'rice', 'richmond country', 'rmi', 'roma', 'romania', 'rosario', 'rosello', 'rsa', 'russia', 'russian federation', 'rutherford', 'rwanda', 'saint loius', 'saint lucia', 'saint luica', 'samoa', 'san bernardino', 'san franicsco', 'san marino', 'san mateo', 'santa barbara', 'sardegna', 'sardinia', 'saudi arabia', 'saudia arabia', 'scotland', 'senegal', 'serbia', 'shelby', 'sicilia', 'sierra leone', 'singapore', 'slo', 'slovak republik', 'slovakia', 'slovenia', 'smith', 'solano', 'solomon islands', 'somalia', 'somewherein space', 'south africa', 'south korea', 'space', 'spain', 'spotsylvania', 'sri lanka', 'srilanka', 'strongbadia', 'sudan', 'suisse', 'suriname', 'swaziland', 'swazilandia', 'sweden', 'switzerland', 'syria', 'taiwan', 'tajikistan', 'tanzania', 'tdzimi', 'texas', 'thailand', 'thailoand', 'the', 'the gambia', 'the netherlands', 'the philippines', 'thing', 'tobago', 'togo', 'tonga', 'toscana', 'travelling', 'trinidad', 'tunisia', 'turkei', 'turkey', 'turkmenistan', 'tyrtyrt', 'türkiye', 'u', 'u k', 'ua', 'uae', 'uganda', 'uk', 'ukrain', 'ukraine', 'unit', 'unite states', 'united kindgdom', 'united kindgonm', 'united kingdom', 'united sates', 'united staes', 'united state', 'united statea', 'united stated', 'united states', 'universe', 'unknown', 'urugua', 'uruguay', 'us', 'usa', 'ussurfing', 'ust', 'uusa', 'uyo', 'uzbekistan', 'valtesse', 'van wert', 'vanuatu', 'vatican city', 'venezuela', 'ventura', 'ventura county', 'vicenza', 'victoria', 'vietnam', 'vorce', 'wales', 'washtenaw', 'west yorkshire', 'whatcom', 'windham', 'wonderful usa', 'wood', 'worcester', 'x', 'xinyu', 'xxxxxx', 'yakima', 'yanhill', 'yemen', 'ysa', 'yugoslavia', 'yunling', 'z', 'zambia', 'zhengjiang', 'zimbabwe', 'öð¹ú']\n"
     ]
    }
   ],
   "source": [
    "a=list(users.country.unique())\n",
    "a=set(a)\n",
    "a=list(a)\n",
    "a = [x for x in a if x is not None]\n",
    "a.sort()\n",
    "print(a)"
   ]
  },
  {
   "cell_type": "code",
   "execution_count": 173,
   "id": "da5200e4",
   "metadata": {},
   "outputs": [],
   "source": [
    "users['country'].replace(['','01776','02458','19104','23232','30064','85021','87510','alachua','america','austria','autralia','cananda','geermany','italia','united kindgonm','united sates','united staes','united state','united states','us'],\n",
    "                           ['other','usa','usa','usa','usa','usa','usa','usa','usa','usa','australia','australia','canada','germany','italy','united kingdom','usa','usa','usa','usa','usa'],inplace=True)"
   ]
  },
  {
   "cell_type": "code",
   "execution_count": 174,
   "id": "3fd66968",
   "metadata": {
    "scrolled": true
   },
   "outputs": [
    {
     "data": {
      "text/html": [
       "<div>\n",
       "<style scoped>\n",
       "    .dataframe tbody tr th:only-of-type {\n",
       "        vertical-align: middle;\n",
       "    }\n",
       "\n",
       "    .dataframe tbody tr th {\n",
       "        vertical-align: top;\n",
       "    }\n",
       "\n",
       "    .dataframe thead th {\n",
       "        text-align: right;\n",
       "    }\n",
       "</style>\n",
       "<table border=\"1\" class=\"dataframe\">\n",
       "  <thead>\n",
       "    <tr style=\"text-align: right;\">\n",
       "      <th></th>\n",
       "      <th>user_id</th>\n",
       "      <th>location</th>\n",
       "      <th>age</th>\n",
       "      <th>country</th>\n",
       "    </tr>\n",
       "  </thead>\n",
       "  <tbody>\n",
       "    <tr>\n",
       "      <th>260231</th>\n",
       "      <td>260232</td>\n",
       "      <td>fulda, hessen, germany</td>\n",
       "      <td>44.0</td>\n",
       "      <td>germany</td>\n",
       "    </tr>\n",
       "    <tr>\n",
       "      <th>25613</th>\n",
       "      <td>25614</td>\n",
       "      <td>plymtree, devon, united kingdom</td>\n",
       "      <td>NaN</td>\n",
       "      <td>united kingdom</td>\n",
       "    </tr>\n",
       "    <tr>\n",
       "      <th>144371</th>\n",
       "      <td>144372</td>\n",
       "      <td>coquitlam, british columbia, canada</td>\n",
       "      <td>NaN</td>\n",
       "      <td>canada</td>\n",
       "    </tr>\n",
       "    <tr>\n",
       "      <th>145411</th>\n",
       "      <td>145412</td>\n",
       "      <td>parsippany, new jersey, usa</td>\n",
       "      <td>60.0</td>\n",
       "      <td>usa</td>\n",
       "    </tr>\n",
       "    <tr>\n",
       "      <th>198689</th>\n",
       "      <td>198690</td>\n",
       "      <td>aurora, colorado, usa</td>\n",
       "      <td>28.0</td>\n",
       "      <td>usa</td>\n",
       "    </tr>\n",
       "  </tbody>\n",
       "</table>\n",
       "</div>"
      ],
      "text/plain": [
       "        user_id                             location   age         country\n",
       "260231   260232               fulda, hessen, germany  44.0         germany\n",
       "25613     25614      plymtree, devon, united kingdom   NaN  united kingdom\n",
       "144371   144372  coquitlam, british columbia, canada   NaN          canada\n",
       "145411   145412          parsippany, new jersey, usa  60.0             usa\n",
       "198689   198690                aurora, colorado, usa  28.0             usa"
      ]
     },
     "execution_count": 174,
     "metadata": {},
     "output_type": "execute_result"
    }
   ],
   "source": [
    "users.sample(5)"
   ]
  },
  {
   "cell_type": "code",
   "execution_count": 175,
   "id": "e9a51e1c",
   "metadata": {},
   "outputs": [
    {
     "data": {
      "text/plain": [
       "Text(0.5, 1.0, 'Country wise Users')"
      ]
     },
     "execution_count": 175,
     "metadata": {},
     "output_type": "execute_result"
    },
    {
     "data": {
      "image/png": "[encoded data removed]",
      "text/plain": [
       "<Figure size 1500x700 with 1 Axes>"
      ]
     },
     "metadata": {},
     "output_type": "display_data"
    }
   ],
   "source": [
    "plt.figure(figsize=(15,7))\n",
    "sns.countplot(y='country',data=users,order=pd.value_counts(users['country']).iloc[:10].index ,palette='plasma')\n",
    "plt.title('Country wise Users')"
   ]
  },
  {
   "cell_type": "code",
   "execution_count": 176,
   "id": "8561fa1f",
   "metadata": {},
   "outputs": [
    {
     "data": {
      "text/plain": [
       "user_id          0\n",
       "location         0\n",
       "age         110762\n",
       "country          0\n",
       "dtype: int64"
      ]
     },
     "execution_count": 176,
     "metadata": {},
     "output_type": "execute_result"
    }
   ],
   "source": [
    "users.isnull().sum()"
   ]
  },
  {
   "cell_type": "code",
   "execution_count": 177,
   "id": "6f2d297c",
   "metadata": {},
   "outputs": [
    {
     "name": "stdout",
     "output_type": "stream",
     "text": [
      "[nan, 0.0, 1.0, 2.0, 3.0, 4.0, 5.0, 6.0, 7.0, 8.0, 9.0, 10.0, 11.0, 12.0, 13.0, 14.0, 15.0, 16.0, 17.0, 18.0, 19.0, 20.0, 21.0, 22.0, 23.0, 24.0, 25.0, 26.0, 27.0, 28.0, 29.0, 30.0, 31.0, 32.0, 33.0, 34.0, 35.0, 36.0, 37.0, 38.0, 39.0, 40.0, 41.0, 42.0, 43.0, 44.0, 45.0, 46.0, 47.0, 48.0, 49.0, 50.0, 51.0, 52.0, 53.0, 54.0, 55.0, 56.0, 57.0, 58.0, 59.0, 60.0, 61.0, 62.0, 63.0, 64.0, 65.0, 66.0, 67.0, 68.0, 69.0, 70.0, 71.0, 72.0, 73.0, 74.0, 75.0, 76.0, 77.0, 78.0, 79.0, 80.0, 81.0, 82.0, 83.0, 84.0, 85.0, 86.0, 87.0, 88.0, 89.0, 90.0, 91.0, 92.0, 93.0, 94.0, 95.0, 96.0, 97.0, 98.0, 99.0, 100.0, 101.0, 102.0, 103.0, 104.0, 105.0, 106.0, 107.0, 108.0, 109.0, 110.0, 111.0, 113.0, 114.0, 115.0, 116.0, 118.0, 119.0, 123.0, 124.0, 127.0, 128.0, 132.0, 133.0, 136.0, 137.0, 138.0, 140.0, 141.0, 143.0, 146.0, 147.0, 148.0, 151.0, 152.0, 156.0, 157.0, 159.0, 162.0, 168.0, 172.0, 175.0, 183.0, 186.0, 189.0, 199.0, 200.0, 201.0, 204.0, 207.0, 208.0, 209.0, 210.0, 212.0, 219.0, 220.0, 223.0, 226.0, 228.0, 229.0, 230.0, 231.0, 237.0, 239.0, 244.0]\n"
     ]
    }
   ],
   "source": [
    "print(sorted(users.age.unique()))"
   ]
  },
  {
   "cell_type": "code",
   "execution_count": 178,
   "id": "141501e1",
   "metadata": {},
   "outputs": [
    {
     "data": {
      "image/png": "[encoded data removed]",
      "text/plain": [
       "<Figure size 640x480 with 1 Axes>"
      ]
     },
     "metadata": {},
     "output_type": "display_data"
    }
   ],
   "source": [
    "users.age.hist(color='teal')\n",
    "plt.title('Age Distribution\\n')\n",
    "plt.xlabel('Age')\n",
    "plt.ylabel('Count')\n",
    "plt.show()"
   ]
  },
  {
   "cell_type": "code",
   "execution_count": 179,
   "id": "41a57f8e",
   "metadata": {},
   "outputs": [
    {
     "data": {
      "image/png": "[encoded data removed]",
      "text/plain": [
       "<Figure size 1000x600 with 1 Axes>"
      ]
     },
     "metadata": {},
     "output_type": "display_data"
    }
   ],
   "source": [
    "plt.figure(figsize=(10, 6))\n",
    "sns.boxplot(y='age', data=users, color='teal')\n",
    "plt.title('Box Plot for Age')\n",
    "plt.show()"
   ]
  },
  {
   "cell_type": "code",
   "execution_count": 180,
   "id": "76784b8e",
   "metadata": {},
   "outputs": [],
   "source": [
    "users.loc[(users.age > 105) | (users.age < 5), 'age'] = np.nan"
   ]
  },
  {
   "cell_type": "code",
   "execution_count": 181,
   "id": "16046e0b",
   "metadata": {},
   "outputs": [
    {
     "data": {
      "text/plain": [
       "user_id          0\n",
       "location         0\n",
       "age         111750\n",
       "country          0\n",
       "dtype: int64"
      ]
     },
     "execution_count": 181,
     "metadata": {},
     "output_type": "execute_result"
    }
   ],
   "source": [
    "users.isnull().sum()"
   ]
  },
  {
   "cell_type": "code",
   "execution_count": 182,
   "id": "00602295",
   "metadata": {},
   "outputs": [],
   "source": [
    "users['age'] = users['age'].fillna(users.groupby('country')['age'].transform('median'))"
   ]
  },
  {
   "cell_type": "code",
   "execution_count": 183,
   "id": "72ca8de8",
   "metadata": {},
   "outputs": [
    {
     "data": {
      "text/plain": [
       "user_id       0\n",
       "location      0\n",
       "age         276\n",
       "country       0\n",
       "dtype: int64"
      ]
     },
     "execution_count": 183,
     "metadata": {},
     "output_type": "execute_result"
    }
   ],
   "source": [
    "users.isnull().sum()"
   ]
  },
  {
   "cell_type": "code",
   "execution_count": 184,
   "id": "0be9b60c",
   "metadata": {},
   "outputs": [],
   "source": [
    "users['age'].fillna(users.age.mean(),inplace=True)"
   ]
  },
  {
   "cell_type": "code",
   "execution_count": 185,
   "id": "28029e84",
   "metadata": {},
   "outputs": [
    {
     "data": {
      "text/plain": [
       "user_id     0\n",
       "location    0\n",
       "age         0\n",
       "country     0\n",
       "dtype: int64"
      ]
     },
     "execution_count": 185,
     "metadata": {},
     "output_type": "execute_result"
    }
   ],
   "source": [
    "users.isna().sum()"
   ]
  },
  {
   "cell_type": "code",
   "execution_count": 186,
   "id": "83c0c2e6",
   "metadata": {},
   "outputs": [
    {
     "name": "stdout",
     "output_type": "stream",
     "text": [
      "<class 'pandas.core.frame.DataFrame'>\n",
      "RangeIndex: 278858 entries, 0 to 278857\n",
      "Data columns (total 4 columns):\n",
      " #   Column    Non-Null Count   Dtype  \n",
      "---  ------    --------------   -----  \n",
      " 0   user_id   278858 non-null  int64  \n",
      " 1   location  278858 non-null  object \n",
      " 2   age       278858 non-null  float64\n",
      " 3   country   278858 non-null  object \n",
      "dtypes: float64(1), int64(1), object(2)\n",
      "memory usage: 8.5+ MB\n"
     ]
    }
   ],
   "source": [
    "users.info()"
   ]
  },
  {
   "cell_type": "markdown",
   "id": "23d2edce",
   "metadata": {},
   "source": [
    "#### 3. Ratings Dataset"
   ]
  },
  {
   "cell_type": "code",
   "execution_count": 187,
   "id": "0e4672e7",
   "metadata": {},
   "outputs": [],
   "source": [
    "ratings = pd.read_csv('Ratings.csv', encoding='latin1')"
   ]
  },
  {
   "cell_type": "code",
   "execution_count": 188,
   "id": "0b4322da",
   "metadata": {},
   "outputs": [
    {
     "data": {
      "text/html": [
       "<div>\n",
       "<style scoped>\n",
       "    .dataframe tbody tr th:only-of-type {\n",
       "        vertical-align: middle;\n",
       "    }\n",
       "\n",
       "    .dataframe tbody tr th {\n",
       "        vertical-align: top;\n",
       "    }\n",
       "\n",
       "    .dataframe thead th {\n",
       "        text-align: right;\n",
       "    }\n",
       "</style>\n",
       "<table border=\"1\" class=\"dataframe\">\n",
       "  <thead>\n",
       "    <tr style=\"text-align: right;\">\n",
       "      <th></th>\n",
       "      <th>User-ID</th>\n",
       "      <th>ISBN</th>\n",
       "      <th>Book-Rating</th>\n",
       "    </tr>\n",
       "  </thead>\n",
       "  <tbody>\n",
       "    <tr>\n",
       "      <th>0</th>\n",
       "      <td>276725</td>\n",
       "      <td>034545104X</td>\n",
       "      <td>0.0</td>\n",
       "    </tr>\n",
       "    <tr>\n",
       "      <th>1</th>\n",
       "      <td>276726</td>\n",
       "      <td>0155061224</td>\n",
       "      <td>5.0</td>\n",
       "    </tr>\n",
       "    <tr>\n",
       "      <th>2</th>\n",
       "      <td>276727</td>\n",
       "      <td>0446520802</td>\n",
       "      <td>0.0</td>\n",
       "    </tr>\n",
       "    <tr>\n",
       "      <th>3</th>\n",
       "      <td>276729</td>\n",
       "      <td>052165615X</td>\n",
       "      <td>3.0</td>\n",
       "    </tr>\n",
       "    <tr>\n",
       "      <th>4</th>\n",
       "      <td>276729</td>\n",
       "      <td>0521795028</td>\n",
       "      <td>6.0</td>\n",
       "    </tr>\n",
       "  </tbody>\n",
       "</table>\n",
       "</div>"
      ],
      "text/plain": [
       "   User-ID        ISBN  Book-Rating\n",
       "0   276725  034545104X          0.0\n",
       "1   276726  0155061224          5.0\n",
       "2   276727  0446520802          0.0\n",
       "3   276729  052165615X          3.0\n",
       "4   276729  0521795028          6.0"
      ]
     },
     "execution_count": 188,
     "metadata": {},
     "output_type": "execute_result"
    }
   ],
   "source": [
    "ratings.head()"
   ]
  },
  {
   "cell_type": "code",
   "execution_count": 189,
   "id": "d26de1e7",
   "metadata": {},
   "outputs": [
    {
     "data": {
      "text/plain": [
       "(722126, 3)"
      ]
     },
     "execution_count": 189,
     "metadata": {},
     "output_type": "execute_result"
    }
   ],
   "source": [
    "ratings.shape"
   ]
  },
  {
   "cell_type": "code",
   "execution_count": 190,
   "id": "b6e51d1e",
   "metadata": {},
   "outputs": [
    {
     "data": {
      "text/plain": [
       "False    722126\n",
       "Name: count, dtype: int64"
      ]
     },
     "execution_count": 190,
     "metadata": {},
     "output_type": "execute_result"
    }
   ],
   "source": [
    "ratings.duplicated().value_counts()"
   ]
  },
  {
   "cell_type": "code",
   "execution_count": 191,
   "id": "45adbb8c",
   "metadata": {},
   "outputs": [
    {
     "data": {
      "text/plain": [
       "User-ID        0\n",
       "ISBN           0\n",
       "Book-Rating    1\n",
       "dtype: int64"
      ]
     },
     "execution_count": 191,
     "metadata": {},
     "output_type": "execute_result"
    }
   ],
   "source": [
    "ratings.isnull().sum()"
   ]
  },
  {
   "cell_type": "code",
   "execution_count": 192,
   "id": "01ceb304",
   "metadata": {},
   "outputs": [],
   "source": [
    "ratings.columns = ratings.columns.str.lower()"
   ]
  },
  {
   "cell_type": "code",
   "execution_count": 193,
   "id": "6aaebce6",
   "metadata": {},
   "outputs": [],
   "source": [
    "ratings.columns = ratings.columns.str.replace('-','_')"
   ]
  },
  {
   "cell_type": "code",
   "execution_count": 194,
   "id": "dcdc72c1",
   "metadata": {},
   "outputs": [
    {
     "data": {
      "text/plain": [
       "Index(['user_id', 'isbn', 'book_rating'], dtype='object')"
      ]
     },
     "execution_count": 194,
     "metadata": {},
     "output_type": "execute_result"
    }
   ],
   "source": [
    "ratings.columns"
   ]
  },
  {
   "cell_type": "code",
   "execution_count": 195,
   "id": "bc42880c",
   "metadata": {},
   "outputs": [
    {
     "data": {
      "text/plain": [
       "user_id         66774\n",
       "isbn           255687\n",
       "book_rating        11\n",
       "dtype: int64"
      ]
     },
     "execution_count": 195,
     "metadata": {},
     "output_type": "execute_result"
    }
   ],
   "source": [
    "ratings.nunique()"
   ]
  },
  {
   "cell_type": "code",
   "execution_count": 196,
   "id": "725b0a48",
   "metadata": {},
   "outputs": [
    {
     "name": "stdout",
     "output_type": "stream",
     "text": [
      "<class 'pandas.core.frame.DataFrame'>\n",
      "RangeIndex: 722126 entries, 0 to 722125\n",
      "Data columns (total 3 columns):\n",
      " #   Column       Non-Null Count   Dtype  \n",
      "---  ------       --------------   -----  \n",
      " 0   user_id      722126 non-null  int64  \n",
      " 1   isbn         722126 non-null  object \n",
      " 2   book_rating  722125 non-null  float64\n",
      "dtypes: float64(1), int64(1), object(1)\n",
      "memory usage: 16.5+ MB\n"
     ]
    }
   ],
   "source": [
    "ratings.info()"
   ]
  },
  {
   "cell_type": "code",
   "execution_count": 197,
   "id": "29bddbdd",
   "metadata": {
    "scrolled": true
   },
   "outputs": [
    {
     "name": "stdout",
     "output_type": "stream",
     "text": [
      "count    722125.000000\n",
      "mean          2.979396\n",
      "std           3.890986\n",
      "min           0.000000\n",
      "25%           0.000000\n",
      "50%           0.000000\n",
      "75%           7.000000\n",
      "max          10.000000\n",
      "Name: book_rating, dtype: float64\n"
     ]
    }
   ],
   "source": [
    "print(ratings['book_rating'].describe())"
   ]
  },
  {
   "cell_type": "code",
   "execution_count": 198,
   "id": "888dbb33",
   "metadata": {},
   "outputs": [
    {
     "data": {
      "image/png": "[encoded data removed]",
      "text/plain": [
       "<Figure size 640x480 with 1 Axes>"
      ]
     },
     "metadata": {},
     "output_type": "display_data"
    }
   ],
   "source": [
    "ratings.book_rating.hist(color='teal')\n",
    "plt.title('Rating Distribution\\n')\n",
    "plt.xlabel('Rating')\n",
    "plt.ylabel('Count')\n",
    "plt.show()"
   ]
  },
  {
   "cell_type": "markdown",
   "id": "f12c97cc",
   "metadata": {},
   "source": [
    "The ratings are very unevenly distributed, and the vast majority of ratings are 0 .As quoted in the description of the dataset Ratings contains the book rating information. Ratings are either explicit, expressed on a scale from 1-10 higher values denoting higher appreciation, or implicit, expressed by 0. Hence segragating implicit and explict ratings datasets. "
   ]
  },
  {
   "cell_type": "code",
   "execution_count": 199,
   "id": "a7395762",
   "metadata": {},
   "outputs": [],
   "source": [
    "ratings_explicit = ratings[ratings['book_rating'] != 0]\n",
    "ratings_implicit = ratings[ratings['book_rating'] == 0]"
   ]
  },
  {
   "cell_type": "code",
   "execution_count": 200,
   "id": "c7870ae8",
   "metadata": {},
   "outputs": [
    {
     "name": "stdout",
     "output_type": "stream",
     "text": [
      "Ratings Explicit Dataset Shape (282341, 3)\n",
      "Ratings Implicit Dataset Shape (439785, 3)\n"
     ]
    }
   ],
   "source": [
    "print('Ratings Explicit Dataset Shape',ratings_explicit.shape)\n",
    "print('Ratings Implicit Dataset Shape',ratings_implicit.shape)"
   ]
  },
  {
   "cell_type": "code",
   "execution_count": 201,
   "id": "f709e2ff",
   "metadata": {},
   "outputs": [
    {
     "data": {
      "text/plain": [
       "<Axes: xlabel='book_rating', ylabel='count'>"
      ]
     },
     "execution_count": 201,
     "metadata": {},
     "output_type": "execute_result"
    },
    {
     "data": {
      "image/png": "[encoded data removed]",
      "text/plain": [
       "<Figure size 1200x800 with 1 Axes>"
      ]
     },
     "metadata": {},
     "output_type": "display_data"
    }
   ],
   "source": [
    "plt.figure(figsize=(12, 8))\n",
    "sns.countplot(data=ratings_explicit , x='book_rating', palette='dark')"
   ]
  },
  {
   "cell_type": "code",
   "execution_count": 202,
   "id": "66badb16",
   "metadata": {},
   "outputs": [
    {
     "data": {
      "text/html": [
       "<div>\n",
       "<style scoped>\n",
       "    .dataframe tbody tr th:only-of-type {\n",
       "        vertical-align: middle;\n",
       "    }\n",
       "\n",
       "    .dataframe tbody tr th {\n",
       "        vertical-align: top;\n",
       "    }\n",
       "\n",
       "    .dataframe thead th {\n",
       "        text-align: right;\n",
       "    }\n",
       "</style>\n",
       "<table border=\"1\" class=\"dataframe\">\n",
       "  <thead>\n",
       "    <tr style=\"text-align: right;\">\n",
       "      <th></th>\n",
       "      <th>isbn</th>\n",
       "      <th>book_title</th>\n",
       "      <th>book_author</th>\n",
       "      <th>year_of_publication</th>\n",
       "      <th>publisher</th>\n",
       "      <th>image_url_s</th>\n",
       "      <th>image_url_m</th>\n",
       "      <th>image_url_l</th>\n",
       "    </tr>\n",
       "  </thead>\n",
       "  <tbody>\n",
       "    <tr>\n",
       "      <th>0</th>\n",
       "      <td>0195153448</td>\n",
       "      <td>Classical Mythology</td>\n",
       "      <td>Mark P. O. Morford</td>\n",
       "      <td>2002</td>\n",
       "      <td>Oxford University Press</td>\n",
       "      <td>http://images.amazon.com/images/P/0195153448.0...</td>\n",
       "      <td>http://images.amazon.com/images/P/0195153448.0...</td>\n",
       "      <td>http://images.amazon.com/images/P/0195153448.0...</td>\n",
       "    </tr>\n",
       "    <tr>\n",
       "      <th>1</th>\n",
       "      <td>0002005018</td>\n",
       "      <td>Clara Callan</td>\n",
       "      <td>Richard Bruce Wright</td>\n",
       "      <td>2001</td>\n",
       "      <td>HarperFlamingo Canada</td>\n",
       "      <td>http://images.amazon.com/images/P/0002005018.0...</td>\n",
       "      <td>http://images.amazon.com/images/P/0002005018.0...</td>\n",
       "      <td>http://images.amazon.com/images/P/0002005018.0...</td>\n",
       "    </tr>\n",
       "    <tr>\n",
       "      <th>2</th>\n",
       "      <td>0060973129</td>\n",
       "      <td>Decision in Normandy</td>\n",
       "      <td>Carlo D'Este</td>\n",
       "      <td>1991</td>\n",
       "      <td>HarperPerennial</td>\n",
       "      <td>http://images.amazon.com/images/P/0060973129.0...</td>\n",
       "      <td>http://images.amazon.com/images/P/0060973129.0...</td>\n",
       "      <td>http://images.amazon.com/images/P/0060973129.0...</td>\n",
       "    </tr>\n",
       "    <tr>\n",
       "      <th>3</th>\n",
       "      <td>0374157065</td>\n",
       "      <td>Flu: The Story of the Great Influenza Pandemic...</td>\n",
       "      <td>Gina Bari Kolata</td>\n",
       "      <td>1999</td>\n",
       "      <td>Farrar Straus Giroux</td>\n",
       "      <td>http://images.amazon.com/images/P/0374157065.0...</td>\n",
       "      <td>http://images.amazon.com/images/P/0374157065.0...</td>\n",
       "      <td>http://images.amazon.com/images/P/0374157065.0...</td>\n",
       "    </tr>\n",
       "    <tr>\n",
       "      <th>4</th>\n",
       "      <td>0393045218</td>\n",
       "      <td>The Mummies of Urumchi</td>\n",
       "      <td>E. J. W. Barber</td>\n",
       "      <td>1999</td>\n",
       "      <td>W. W. Norton &amp;amp; Company</td>\n",
       "      <td>http://images.amazon.com/images/P/0393045218.0...</td>\n",
       "      <td>http://images.amazon.com/images/P/0393045218.0...</td>\n",
       "      <td>http://images.amazon.com/images/P/0393045218.0...</td>\n",
       "    </tr>\n",
       "  </tbody>\n",
       "</table>\n",
       "</div>"
      ],
      "text/plain": [
       "         isbn                                         book_title  \\\n",
       "0  0195153448                                Classical Mythology   \n",
       "1  0002005018                                       Clara Callan   \n",
       "2  0060973129                               Decision in Normandy   \n",
       "3  0374157065  Flu: The Story of the Great Influenza Pandemic...   \n",
       "4  0393045218                             The Mummies of Urumchi   \n",
       "\n",
       "            book_author  year_of_publication                   publisher  \\\n",
       "0    Mark P. O. Morford                 2002     Oxford University Press   \n",
       "1  Richard Bruce Wright                 2001       HarperFlamingo Canada   \n",
       "2          Carlo D'Este                 1991             HarperPerennial   \n",
       "3      Gina Bari Kolata                 1999        Farrar Straus Giroux   \n",
       "4       E. J. W. Barber                 1999  W. W. Norton &amp; Company   \n",
       "\n",
       "                                         image_url_s  \\\n",
       "0  http://images.amazon.com/images/P/0195153448.0...   \n",
       "1  http://images.amazon.com/images/P/0002005018.0...   \n",
       "2  http://images.amazon.com/images/P/0060973129.0...   \n",
       "3  http://images.amazon.com/images/P/0374157065.0...   \n",
       "4  http://images.amazon.com/images/P/0393045218.0...   \n",
       "\n",
       "                                         image_url_m  \\\n",
       "0  http://images.amazon.com/images/P/0195153448.0...   \n",
       "1  http://images.amazon.com/images/P/0002005018.0...   \n",
       "2  http://images.amazon.com/images/P/0060973129.0...   \n",
       "3  http://images.amazon.com/images/P/0374157065.0...   \n",
       "4  http://images.amazon.com/images/P/0393045218.0...   \n",
       "\n",
       "                                         image_url_l  \n",
       "0  http://images.amazon.com/images/P/0195153448.0...  \n",
       "1  http://images.amazon.com/images/P/0002005018.0...  \n",
       "2  http://images.amazon.com/images/P/0060973129.0...  \n",
       "3  http://images.amazon.com/images/P/0374157065.0...  \n",
       "4  http://images.amazon.com/images/P/0393045218.0...  "
      ]
     },
     "execution_count": 202,
     "metadata": {},
     "output_type": "execute_result"
    }
   ],
   "source": [
    "books.head()"
   ]
  },
  {
   "cell_type": "code",
   "execution_count": 203,
   "id": "9cee666c",
   "metadata": {},
   "outputs": [
    {
     "data": {
      "text/html": [
       "<div>\n",
       "<style scoped>\n",
       "    .dataframe tbody tr th:only-of-type {\n",
       "        vertical-align: middle;\n",
       "    }\n",
       "\n",
       "    .dataframe tbody tr th {\n",
       "        vertical-align: top;\n",
       "    }\n",
       "\n",
       "    .dataframe thead th {\n",
       "        text-align: right;\n",
       "    }\n",
       "</style>\n",
       "<table border=\"1\" class=\"dataframe\">\n",
       "  <thead>\n",
       "    <tr style=\"text-align: right;\">\n",
       "      <th></th>\n",
       "      <th>book_title</th>\n",
       "      <th>num_ratings</th>\n",
       "    </tr>\n",
       "  </thead>\n",
       "  <tbody>\n",
       "    <tr>\n",
       "      <th>0</th>\n",
       "      <td>A Light in the Storm: The Civil War Diary of ...</td>\n",
       "      <td>4</td>\n",
       "    </tr>\n",
       "    <tr>\n",
       "      <th>1</th>\n",
       "      <td>Beyond IBM: Leadership Marketing and Finance ...</td>\n",
       "      <td>1</td>\n",
       "    </tr>\n",
       "    <tr>\n",
       "      <th>2</th>\n",
       "      <td>Dark Justice</td>\n",
       "      <td>1</td>\n",
       "    </tr>\n",
       "    <tr>\n",
       "      <th>3</th>\n",
       "      <td>Earth Prayers From around the World: 365 Pray...</td>\n",
       "      <td>3</td>\n",
       "    </tr>\n",
       "    <tr>\n",
       "      <th>4</th>\n",
       "      <td>Final Fantasy Anthology: Official Strategy Gu...</td>\n",
       "      <td>4</td>\n",
       "    </tr>\n",
       "    <tr>\n",
       "      <th>...</th>\n",
       "      <td>...</td>\n",
       "      <td>...</td>\n",
       "    </tr>\n",
       "    <tr>\n",
       "      <th>109035</th>\n",
       "      <td>Ã?Ã?ber die Regierung.</td>\n",
       "      <td>1</td>\n",
       "    </tr>\n",
       "    <tr>\n",
       "      <th>109036</th>\n",
       "      <td>Ã?Ã?bermorgen.</td>\n",
       "      <td>1</td>\n",
       "    </tr>\n",
       "    <tr>\n",
       "      <th>109037</th>\n",
       "      <td>Ã?Ã?rger mit Produkt X. Roman.</td>\n",
       "      <td>3</td>\n",
       "    </tr>\n",
       "    <tr>\n",
       "      <th>109038</th>\n",
       "      <td>Ã?Ã?stlich der Berge.</td>\n",
       "      <td>1</td>\n",
       "    </tr>\n",
       "    <tr>\n",
       "      <th>109039</th>\n",
       "      <td>Ã?Ã?thique en toc</td>\n",
       "      <td>2</td>\n",
       "    </tr>\n",
       "  </tbody>\n",
       "</table>\n",
       "<p>109040 rows × 2 columns</p>\n",
       "</div>"
      ],
      "text/plain": [
       "                                               book_title  num_ratings\n",
       "0        A Light in the Storm: The Civil War Diary of ...            4\n",
       "1        Beyond IBM: Leadership Marketing and Finance ...            1\n",
       "2                                            Dark Justice            1\n",
       "3        Earth Prayers From around the World: 365 Pray...            3\n",
       "4        Final Fantasy Anthology: Official Strategy Gu...            4\n",
       "...                                                   ...          ...\n",
       "109035                           Ã?Ã?ber die Regierung.            1\n",
       "109036                                   Ã?Ã?bermorgen.            1\n",
       "109037                   Ã?Ã?rger mit Produkt X. Roman.            3\n",
       "109038                            Ã?Ã?stlich der Berge.            1\n",
       "109039                                Ã?Ã?thique en toc            2\n",
       "\n",
       "[109040 rows x 2 columns]"
      ]
     },
     "execution_count": 203,
     "metadata": {},
     "output_type": "execute_result"
    }
   ],
   "source": [
    "ratings_with_name = ratings.merge(books,on='isbn')\n",
    "num_rating_df = ratings_with_name.groupby('book_title').count()['book_rating'].reset_index()\n",
    "num_rating_df.rename(columns={'book_rating':'num_ratings'},inplace=True)\n",
    "num_rating_df"
   ]
  },
  {
   "cell_type": "code",
   "execution_count": 204,
   "id": "2fa58fea",
   "metadata": {},
   "outputs": [
    {
     "data": {
      "text/plain": [
       "0         0.0\n",
       "1         0.0\n",
       "2         0.0\n",
       "3         7.0\n",
       "4         0.0\n",
       "         ... \n",
       "537542    0.0\n",
       "537543    0.0\n",
       "537544    0.0\n",
       "537545    0.0\n",
       "537546    9.0\n",
       "Name: book_rating, Length: 537547, dtype: float64"
      ]
     },
     "execution_count": 204,
     "metadata": {},
     "output_type": "execute_result"
    }
   ],
   "source": [
    "ratings_with_name['book_rating']"
   ]
  },
  {
   "cell_type": "code",
   "execution_count": 205,
   "id": "910fd469",
   "metadata": {},
   "outputs": [
    {
     "data": {
      "text/html": [
       "<div>\n",
       "<style scoped>\n",
       "    .dataframe tbody tr th:only-of-type {\n",
       "        vertical-align: middle;\n",
       "    }\n",
       "\n",
       "    .dataframe tbody tr th {\n",
       "        vertical-align: top;\n",
       "    }\n",
       "\n",
       "    .dataframe thead th {\n",
       "        text-align: right;\n",
       "    }\n",
       "</style>\n",
       "<table border=\"1\" class=\"dataframe\">\n",
       "  <thead>\n",
       "    <tr style=\"text-align: right;\">\n",
       "      <th></th>\n",
       "      <th>book_title</th>\n",
       "      <th>avg_rating</th>\n",
       "    </tr>\n",
       "  </thead>\n",
       "  <tbody>\n",
       "    <tr>\n",
       "      <th>0</th>\n",
       "      <td>A Light in the Storm: The Civil War Diary of ...</td>\n",
       "      <td>2.250000</td>\n",
       "    </tr>\n",
       "    <tr>\n",
       "      <th>1</th>\n",
       "      <td>Beyond IBM: Leadership Marketing and Finance ...</td>\n",
       "      <td>0.000000</td>\n",
       "    </tr>\n",
       "    <tr>\n",
       "      <th>2</th>\n",
       "      <td>Dark Justice</td>\n",
       "      <td>10.000000</td>\n",
       "    </tr>\n",
       "    <tr>\n",
       "      <th>3</th>\n",
       "      <td>Earth Prayers From around the World: 365 Pray...</td>\n",
       "      <td>8.666667</td>\n",
       "    </tr>\n",
       "    <tr>\n",
       "      <th>4</th>\n",
       "      <td>Final Fantasy Anthology: Official Strategy Gu...</td>\n",
       "      <td>5.000000</td>\n",
       "    </tr>\n",
       "    <tr>\n",
       "      <th>...</th>\n",
       "      <td>...</td>\n",
       "      <td>...</td>\n",
       "    </tr>\n",
       "    <tr>\n",
       "      <th>109035</th>\n",
       "      <td>Ã?Ã?ber die Regierung.</td>\n",
       "      <td>0.000000</td>\n",
       "    </tr>\n",
       "    <tr>\n",
       "      <th>109036</th>\n",
       "      <td>Ã?Ã?bermorgen.</td>\n",
       "      <td>0.000000</td>\n",
       "    </tr>\n",
       "    <tr>\n",
       "      <th>109037</th>\n",
       "      <td>Ã?Ã?rger mit Produkt X. Roman.</td>\n",
       "      <td>4.666667</td>\n",
       "    </tr>\n",
       "    <tr>\n",
       "      <th>109038</th>\n",
       "      <td>Ã?Ã?stlich der Berge.</td>\n",
       "      <td>8.000000</td>\n",
       "    </tr>\n",
       "    <tr>\n",
       "      <th>109039</th>\n",
       "      <td>Ã?Ã?thique en toc</td>\n",
       "      <td>4.000000</td>\n",
       "    </tr>\n",
       "  </tbody>\n",
       "</table>\n",
       "<p>109040 rows × 2 columns</p>\n",
       "</div>"
      ],
      "text/plain": [
       "                                               book_title  avg_rating\n",
       "0        A Light in the Storm: The Civil War Diary of ...    2.250000\n",
       "1        Beyond IBM: Leadership Marketing and Finance ...    0.000000\n",
       "2                                            Dark Justice   10.000000\n",
       "3        Earth Prayers From around the World: 365 Pray...    8.666667\n",
       "4        Final Fantasy Anthology: Official Strategy Gu...    5.000000\n",
       "...                                                   ...         ...\n",
       "109035                           Ã?Ã?ber die Regierung.    0.000000\n",
       "109036                                   Ã?Ã?bermorgen.    0.000000\n",
       "109037                   Ã?Ã?rger mit Produkt X. Roman.    4.666667\n",
       "109038                            Ã?Ã?stlich der Berge.    8.000000\n",
       "109039                                Ã?Ã?thique en toc    4.000000\n",
       "\n",
       "[109040 rows x 2 columns]"
      ]
     },
     "execution_count": 205,
     "metadata": {},
     "output_type": "execute_result"
    }
   ],
   "source": [
    "avg_rating_df = ratings_with_name.groupby('book_title')['book_rating'].mean().reset_index() # Calculate Average Rating \n",
    "avg_rating_df.rename(columns={'book_rating':'avg_rating'},inplace=True)\n",
    "avg_rating_df"
   ]
  },
  {
   "cell_type": "code",
   "execution_count": 206,
   "id": "417a4dbf",
   "metadata": {},
   "outputs": [
    {
     "data": {
      "text/html": [
       "<div>\n",
       "<style scoped>\n",
       "    .dataframe tbody tr th:only-of-type {\n",
       "        vertical-align: middle;\n",
       "    }\n",
       "\n",
       "    .dataframe tbody tr th {\n",
       "        vertical-align: top;\n",
       "    }\n",
       "\n",
       "    .dataframe thead th {\n",
       "        text-align: right;\n",
       "    }\n",
       "</style>\n",
       "<table border=\"1\" class=\"dataframe\">\n",
       "  <thead>\n",
       "    <tr style=\"text-align: right;\">\n",
       "      <th></th>\n",
       "      <th>book_title</th>\n",
       "      <th>num_ratings</th>\n",
       "      <th>avg_rating</th>\n",
       "    </tr>\n",
       "  </thead>\n",
       "  <tbody>\n",
       "    <tr>\n",
       "      <th>0</th>\n",
       "      <td>A Light in the Storm: The Civil War Diary of ...</td>\n",
       "      <td>4</td>\n",
       "      <td>2.250000</td>\n",
       "    </tr>\n",
       "    <tr>\n",
       "      <th>1</th>\n",
       "      <td>Beyond IBM: Leadership Marketing and Finance ...</td>\n",
       "      <td>1</td>\n",
       "      <td>0.000000</td>\n",
       "    </tr>\n",
       "    <tr>\n",
       "      <th>2</th>\n",
       "      <td>Dark Justice</td>\n",
       "      <td>1</td>\n",
       "      <td>10.000000</td>\n",
       "    </tr>\n",
       "    <tr>\n",
       "      <th>3</th>\n",
       "      <td>Earth Prayers From around the World: 365 Pray...</td>\n",
       "      <td>3</td>\n",
       "      <td>8.666667</td>\n",
       "    </tr>\n",
       "    <tr>\n",
       "      <th>4</th>\n",
       "      <td>Final Fantasy Anthology: Official Strategy Gu...</td>\n",
       "      <td>4</td>\n",
       "      <td>5.000000</td>\n",
       "    </tr>\n",
       "    <tr>\n",
       "      <th>...</th>\n",
       "      <td>...</td>\n",
       "      <td>...</td>\n",
       "      <td>...</td>\n",
       "    </tr>\n",
       "    <tr>\n",
       "      <th>109035</th>\n",
       "      <td>Ã?Ã?ber die Regierung.</td>\n",
       "      <td>1</td>\n",
       "      <td>0.000000</td>\n",
       "    </tr>\n",
       "    <tr>\n",
       "      <th>109036</th>\n",
       "      <td>Ã?Ã?bermorgen.</td>\n",
       "      <td>1</td>\n",
       "      <td>0.000000</td>\n",
       "    </tr>\n",
       "    <tr>\n",
       "      <th>109037</th>\n",
       "      <td>Ã?Ã?rger mit Produkt X. Roman.</td>\n",
       "      <td>3</td>\n",
       "      <td>4.666667</td>\n",
       "    </tr>\n",
       "    <tr>\n",
       "      <th>109038</th>\n",
       "      <td>Ã?Ã?stlich der Berge.</td>\n",
       "      <td>1</td>\n",
       "      <td>8.000000</td>\n",
       "    </tr>\n",
       "    <tr>\n",
       "      <th>109039</th>\n",
       "      <td>Ã?Ã?thique en toc</td>\n",
       "      <td>2</td>\n",
       "      <td>4.000000</td>\n",
       "    </tr>\n",
       "  </tbody>\n",
       "</table>\n",
       "<p>109040 rows × 3 columns</p>\n",
       "</div>"
      ],
      "text/plain": [
       "                                               book_title  num_ratings  \\\n",
       "0        A Light in the Storm: The Civil War Diary of ...            4   \n",
       "1        Beyond IBM: Leadership Marketing and Finance ...            1   \n",
       "2                                            Dark Justice            1   \n",
       "3        Earth Prayers From around the World: 365 Pray...            3   \n",
       "4        Final Fantasy Anthology: Official Strategy Gu...            4   \n",
       "...                                                   ...          ...   \n",
       "109035                           Ã?Ã?ber die Regierung.            1   \n",
       "109036                                   Ã?Ã?bermorgen.            1   \n",
       "109037                   Ã?Ã?rger mit Produkt X. Roman.            3   \n",
       "109038                            Ã?Ã?stlich der Berge.            1   \n",
       "109039                                Ã?Ã?thique en toc            2   \n",
       "\n",
       "        avg_rating  \n",
       "0         2.250000  \n",
       "1         0.000000  \n",
       "2        10.000000  \n",
       "3         8.666667  \n",
       "4         5.000000  \n",
       "...            ...  \n",
       "109035    0.000000  \n",
       "109036    0.000000  \n",
       "109037    4.666667  \n",
       "109038    8.000000  \n",
       "109039    4.000000  \n",
       "\n",
       "[109040 rows x 3 columns]"
      ]
     },
     "execution_count": 206,
     "metadata": {},
     "output_type": "execute_result"
    }
   ],
   "source": [
    "popular_df=num_rating_df.merge(avg_rating_df, on='book_title')\n",
    "popular_df"
   ]
  },
  {
   "cell_type": "code",
   "execution_count": 207,
   "id": "0188921e",
   "metadata": {},
   "outputs": [],
   "source": [
    "popular_df=popular_df[popular_df['num_ratings']>=200].sort_values('avg_rating',ascending=False).head(30)"
   ]
  },
  {
   "cell_type": "code",
   "execution_count": 208,
   "id": "5641eefd",
   "metadata": {},
   "outputs": [
    {
     "data": {
      "text/html": [
       "<div>\n",
       "<style scoped>\n",
       "    .dataframe tbody tr th:only-of-type {\n",
       "        vertical-align: middle;\n",
       "    }\n",
       "\n",
       "    .dataframe tbody tr th {\n",
       "        vertical-align: top;\n",
       "    }\n",
       "\n",
       "    .dataframe thead th {\n",
       "        text-align: right;\n",
       "    }\n",
       "</style>\n",
       "<table border=\"1\" class=\"dataframe\">\n",
       "  <thead>\n",
       "    <tr style=\"text-align: right;\">\n",
       "      <th></th>\n",
       "      <th>book_title</th>\n",
       "      <th>num_ratings</th>\n",
       "      <th>avg_rating</th>\n",
       "    </tr>\n",
       "  </thead>\n",
       "  <tbody>\n",
       "    <tr>\n",
       "      <th>36217</th>\n",
       "      <td>Harry Potter and the Goblet of Fire (Book 4)</td>\n",
       "      <td>222</td>\n",
       "      <td>5.729730</td>\n",
       "    </tr>\n",
       "    <tr>\n",
       "      <th>36220</th>\n",
       "      <td>Harry Potter and the Order of the Phoenix (Boo...</td>\n",
       "      <td>208</td>\n",
       "      <td>5.557692</td>\n",
       "    </tr>\n",
       "    <tr>\n",
       "      <th>36225</th>\n",
       "      <td>Harry Potter and the Prisoner of Azkaban (Book 3)</td>\n",
       "      <td>266</td>\n",
       "      <td>5.511278</td>\n",
       "    </tr>\n",
       "    <tr>\n",
       "      <th>36210</th>\n",
       "      <td>Harry Potter and the Chamber of Secrets (Book 2)</td>\n",
       "      <td>361</td>\n",
       "      <td>5.146814</td>\n",
       "    </tr>\n",
       "    <tr>\n",
       "      <th>36233</th>\n",
       "      <td>Harry Potter and the Sorcerer's Stone (Harry P...</td>\n",
       "      <td>361</td>\n",
       "      <td>4.963989</td>\n",
       "    </tr>\n",
       "    <tr>\n",
       "      <th>84373</th>\n",
       "      <td>The Fellowship of the Ring (The Lord of the Ri...</td>\n",
       "      <td>240</td>\n",
       "      <td>4.800000</td>\n",
       "    </tr>\n",
       "    <tr>\n",
       "      <th>99533</th>\n",
       "      <td>To Kill a Mockingbird</td>\n",
       "      <td>321</td>\n",
       "      <td>4.691589</td>\n",
       "    </tr>\n",
       "    <tr>\n",
       "      <th>93572</th>\n",
       "      <td>The Secret Life of Bees</td>\n",
       "      <td>503</td>\n",
       "      <td>4.614314</td>\n",
       "    </tr>\n",
       "    <tr>\n",
       "      <th>81148</th>\n",
       "      <td>The Catcher in the Rye</td>\n",
       "      <td>260</td>\n",
       "      <td>4.603846</td>\n",
       "    </tr>\n",
       "    <tr>\n",
       "      <th>84634</th>\n",
       "      <td>The Five People You Meet in Heaven</td>\n",
       "      <td>282</td>\n",
       "      <td>4.595745</td>\n",
       "    </tr>\n",
       "    <tr>\n",
       "      <th>82510</th>\n",
       "      <td>The Da Vinci Code</td>\n",
       "      <td>580</td>\n",
       "      <td>4.568966</td>\n",
       "    </tr>\n",
       "    <tr>\n",
       "      <th>88799</th>\n",
       "      <td>The Lovely Bones: A Novel</td>\n",
       "      <td>828</td>\n",
       "      <td>4.500000</td>\n",
       "    </tr>\n",
       "    <tr>\n",
       "      <th>101077</th>\n",
       "      <td>Tuesdays with Morrie: An Old Man, a Young Man,...</td>\n",
       "      <td>304</td>\n",
       "      <td>4.421053</td>\n",
       "    </tr>\n",
       "    <tr>\n",
       "      <th>57966</th>\n",
       "      <td>Nickel and Dimed: On (Not) Getting By in America</td>\n",
       "      <td>218</td>\n",
       "      <td>4.275229</td>\n",
       "    </tr>\n",
       "    <tr>\n",
       "      <th>28876</th>\n",
       "      <td>Fahrenheit 451</td>\n",
       "      <td>256</td>\n",
       "      <td>4.265625</td>\n",
       "    </tr>\n",
       "    <tr>\n",
       "      <th>33682</th>\n",
       "      <td>Girl with a Pearl Earring</td>\n",
       "      <td>352</td>\n",
       "      <td>4.227273</td>\n",
       "    </tr>\n",
       "    <tr>\n",
       "      <th>34390</th>\n",
       "      <td>Good in Bed</td>\n",
       "      <td>316</td>\n",
       "      <td>4.199367</td>\n",
       "    </tr>\n",
       "    <tr>\n",
       "      <th>92567</th>\n",
       "      <td>The Red Tent (Bestselling Backlist)</td>\n",
       "      <td>464</td>\n",
       "      <td>4.183190</td>\n",
       "    </tr>\n",
       "    <tr>\n",
       "      <th>105671</th>\n",
       "      <td>Where the Heart Is (Oprah's Book Club (Paperba...</td>\n",
       "      <td>379</td>\n",
       "      <td>4.160950</td>\n",
       "    </tr>\n",
       "    <tr>\n",
       "      <th>2697</th>\n",
       "      <td>A Prayer for Owen Meany</td>\n",
       "      <td>260</td>\n",
       "      <td>4.046154</td>\n",
       "    </tr>\n",
       "    <tr>\n",
       "      <th>79354</th>\n",
       "      <td>The Bean Trees</td>\n",
       "      <td>257</td>\n",
       "      <td>4.038911</td>\n",
       "    </tr>\n",
       "    <tr>\n",
       "      <th>81703</th>\n",
       "      <td>The Color Purple</td>\n",
       "      <td>202</td>\n",
       "      <td>3.990099</td>\n",
       "    </tr>\n",
       "    <tr>\n",
       "      <th>48391</th>\n",
       "      <td>Life of Pi</td>\n",
       "      <td>417</td>\n",
       "      <td>3.976019</td>\n",
       "    </tr>\n",
       "    <tr>\n",
       "      <th>72491</th>\n",
       "      <td>Skipping Christmas</td>\n",
       "      <td>209</td>\n",
       "      <td>3.956938</td>\n",
       "    </tr>\n",
       "    <tr>\n",
       "      <th>29367</th>\n",
       "      <td>Fast Food Nation: The Dark Side of the All-Ame...</td>\n",
       "      <td>200</td>\n",
       "      <td>3.950000</td>\n",
       "    </tr>\n",
       "    <tr>\n",
       "      <th>47402</th>\n",
       "      <td>Left Behind: A Novel of the Earth's Last Days ...</td>\n",
       "      <td>217</td>\n",
       "      <td>3.940092</td>\n",
       "    </tr>\n",
       "    <tr>\n",
       "      <th>105894</th>\n",
       "      <td>White Oleander : A Novel (Oprah's Book Club)</td>\n",
       "      <td>225</td>\n",
       "      <td>3.906667</td>\n",
       "    </tr>\n",
       "    <tr>\n",
       "      <th>105893</th>\n",
       "      <td>White Oleander : A Novel</td>\n",
       "      <td>266</td>\n",
       "      <td>3.902256</td>\n",
       "    </tr>\n",
       "    <tr>\n",
       "      <th>52938</th>\n",
       "      <td>Me Talk Pretty One Day</td>\n",
       "      <td>307</td>\n",
       "      <td>3.872964</td>\n",
       "    </tr>\n",
       "    <tr>\n",
       "      <th>85442</th>\n",
       "      <td>The Golden Compass (His Dark Materials, Book 1)</td>\n",
       "      <td>200</td>\n",
       "      <td>3.820000</td>\n",
       "    </tr>\n",
       "  </tbody>\n",
       "</table>\n",
       "</div>"
      ],
      "text/plain": [
       "                                               book_title  num_ratings  \\\n",
       "36217        Harry Potter and the Goblet of Fire (Book 4)          222   \n",
       "36220   Harry Potter and the Order of the Phoenix (Boo...          208   \n",
       "36225   Harry Potter and the Prisoner of Azkaban (Book 3)          266   \n",
       "36210    Harry Potter and the Chamber of Secrets (Book 2)          361   \n",
       "36233   Harry Potter and the Sorcerer's Stone (Harry P...          361   \n",
       "84373   The Fellowship of the Ring (The Lord of the Ri...          240   \n",
       "99533                               To Kill a Mockingbird          321   \n",
       "93572                             The Secret Life of Bees          503   \n",
       "81148                              The Catcher in the Rye          260   \n",
       "84634                  The Five People You Meet in Heaven          282   \n",
       "82510                                   The Da Vinci Code          580   \n",
       "88799                           The Lovely Bones: A Novel          828   \n",
       "101077  Tuesdays with Morrie: An Old Man, a Young Man,...          304   \n",
       "57966    Nickel and Dimed: On (Not) Getting By in America          218   \n",
       "28876                                      Fahrenheit 451          256   \n",
       "33682                           Girl with a Pearl Earring          352   \n",
       "34390                                         Good in Bed          316   \n",
       "92567                 The Red Tent (Bestselling Backlist)          464   \n",
       "105671  Where the Heart Is (Oprah's Book Club (Paperba...          379   \n",
       "2697                              A Prayer for Owen Meany          260   \n",
       "79354                                      The Bean Trees          257   \n",
       "81703                                    The Color Purple          202   \n",
       "48391                                          Life of Pi          417   \n",
       "72491                                  Skipping Christmas          209   \n",
       "29367   Fast Food Nation: The Dark Side of the All-Ame...          200   \n",
       "47402   Left Behind: A Novel of the Earth's Last Days ...          217   \n",
       "105894       White Oleander : A Novel (Oprah's Book Club)          225   \n",
       "105893                           White Oleander : A Novel          266   \n",
       "52938                              Me Talk Pretty One Day          307   \n",
       "85442     The Golden Compass (His Dark Materials, Book 1)          200   \n",
       "\n",
       "        avg_rating  \n",
       "36217     5.729730  \n",
       "36220     5.557692  \n",
       "36225     5.511278  \n",
       "36210     5.146814  \n",
       "36233     4.963989  \n",
       "84373     4.800000  \n",
       "99533     4.691589  \n",
       "93572     4.614314  \n",
       "81148     4.603846  \n",
       "84634     4.595745  \n",
       "82510     4.568966  \n",
       "88799     4.500000  \n",
       "101077    4.421053  \n",
       "57966     4.275229  \n",
       "28876     4.265625  \n",
       "33682     4.227273  \n",
       "34390     4.199367  \n",
       "92567     4.183190  \n",
       "105671    4.160950  \n",
       "2697      4.046154  \n",
       "79354     4.038911  \n",
       "81703     3.990099  \n",
       "48391     3.976019  \n",
       "72491     3.956938  \n",
       "29367     3.950000  \n",
       "47402     3.940092  \n",
       "105894    3.906667  \n",
       "105893    3.902256  \n",
       "52938     3.872964  \n",
       "85442     3.820000  "
      ]
     },
     "execution_count": 208,
     "metadata": {},
     "output_type": "execute_result"
    }
   ],
   "source": [
    "popular_df"
   ]
  },
  {
   "cell_type": "code",
   "execution_count": 209,
   "id": "5d9150bb",
   "metadata": {},
   "outputs": [
    {
     "data": {
      "text/plain": [
       "Index(['isbn', 'book_title', 'book_author', 'year_of_publication', 'publisher',\n",
       "       'image_url_s', 'image_url_m', 'image_url_l'],\n",
       "      dtype='object')"
      ]
     },
     "execution_count": 209,
     "metadata": {},
     "output_type": "execute_result"
    }
   ],
   "source": [
    "books.columns"
   ]
  },
  {
   "cell_type": "code",
   "execution_count": 210,
   "id": "fe497cbc",
   "metadata": {},
   "outputs": [],
   "source": [
    "popular_df=popular_df.merge(books,on='book_title').drop_duplicates('book_title')[['book_title','book_author','image_url_m','num_ratings','avg_rating']]  # we Remove Duplicate name of books which was diffrent ISBN number "
   ]
  },
  {
   "cell_type": "code",
   "execution_count": 211,
   "id": "0b6213f1",
   "metadata": {},
   "outputs": [
    {
     "data": {
      "text/html": [
       "<div>\n",
       "<style scoped>\n",
       "    .dataframe tbody tr th:only-of-type {\n",
       "        vertical-align: middle;\n",
       "    }\n",
       "\n",
       "    .dataframe tbody tr th {\n",
       "        vertical-align: top;\n",
       "    }\n",
       "\n",
       "    .dataframe thead th {\n",
       "        text-align: right;\n",
       "    }\n",
       "</style>\n",
       "<table border=\"1\" class=\"dataframe\">\n",
       "  <thead>\n",
       "    <tr style=\"text-align: right;\">\n",
       "      <th></th>\n",
       "      <th>book_title</th>\n",
       "      <th>book_author</th>\n",
       "      <th>image_url_m</th>\n",
       "      <th>num_ratings</th>\n",
       "      <th>avg_rating</th>\n",
       "    </tr>\n",
       "  </thead>\n",
       "  <tbody>\n",
       "    <tr>\n",
       "      <th>0</th>\n",
       "      <td>Harry Potter and the Goblet of Fire (Book 4)</td>\n",
       "      <td>J. K. Rowling</td>\n",
       "      <td>http://images.amazon.com/images/P/0439139597.0...</td>\n",
       "      <td>222</td>\n",
       "      <td>5.729730</td>\n",
       "    </tr>\n",
       "    <tr>\n",
       "      <th>2</th>\n",
       "      <td>Harry Potter and the Order of the Phoenix (Boo...</td>\n",
       "      <td>J. K. Rowling</td>\n",
       "      <td>http://images.amazon.com/images/P/043935806X.0...</td>\n",
       "      <td>208</td>\n",
       "      <td>5.557692</td>\n",
       "    </tr>\n",
       "    <tr>\n",
       "      <th>5</th>\n",
       "      <td>Harry Potter and the Prisoner of Azkaban (Book 3)</td>\n",
       "      <td>J. K. Rowling</td>\n",
       "      <td>http://images.amazon.com/images/P/0439136350.0...</td>\n",
       "      <td>266</td>\n",
       "      <td>5.511278</td>\n",
       "    </tr>\n",
       "    <tr>\n",
       "      <th>8</th>\n",
       "      <td>Harry Potter and the Chamber of Secrets (Book 2)</td>\n",
       "      <td>J. K. Rowling</td>\n",
       "      <td>http://images.amazon.com/images/P/0439064872.0...</td>\n",
       "      <td>361</td>\n",
       "      <td>5.146814</td>\n",
       "    </tr>\n",
       "    <tr>\n",
       "      <th>11</th>\n",
       "      <td>Harry Potter and the Sorcerer's Stone (Harry P...</td>\n",
       "      <td>J. K. Rowling</td>\n",
       "      <td>http://images.amazon.com/images/P/059035342X.0...</td>\n",
       "      <td>361</td>\n",
       "      <td>4.963989</td>\n",
       "    </tr>\n",
       "    <tr>\n",
       "      <th>13</th>\n",
       "      <td>The Fellowship of the Ring (The Lord of the Ri...</td>\n",
       "      <td>J.R.R. TOLKIEN</td>\n",
       "      <td>http://images.amazon.com/images/P/0345339703.0...</td>\n",
       "      <td>240</td>\n",
       "      <td>4.800000</td>\n",
       "    </tr>\n",
       "    <tr>\n",
       "      <th>19</th>\n",
       "      <td>To Kill a Mockingbird</td>\n",
       "      <td>Harper Lee</td>\n",
       "      <td>http://images.amazon.com/images/P/0446310786.0...</td>\n",
       "      <td>321</td>\n",
       "      <td>4.691589</td>\n",
       "    </tr>\n",
       "    <tr>\n",
       "      <th>25</th>\n",
       "      <td>The Secret Life of Bees</td>\n",
       "      <td>Sue Monk Kidd</td>\n",
       "      <td>http://images.amazon.com/images/P/0142001740.0...</td>\n",
       "      <td>503</td>\n",
       "      <td>4.614314</td>\n",
       "    </tr>\n",
       "    <tr>\n",
       "      <th>29</th>\n",
       "      <td>The Catcher in the Rye</td>\n",
       "      <td>J.D. Salinger</td>\n",
       "      <td>http://images.amazon.com/images/P/0316769487.0...</td>\n",
       "      <td>260</td>\n",
       "      <td>4.603846</td>\n",
       "    </tr>\n",
       "    <tr>\n",
       "      <th>35</th>\n",
       "      <td>The Five People You Meet in Heaven</td>\n",
       "      <td>Mitch Albom</td>\n",
       "      <td>http://images.amazon.com/images/P/0786868716.0...</td>\n",
       "      <td>282</td>\n",
       "      <td>4.595745</td>\n",
       "    </tr>\n",
       "    <tr>\n",
       "      <th>36</th>\n",
       "      <td>The Da Vinci Code</td>\n",
       "      <td>Dan Brown</td>\n",
       "      <td>http://images.amazon.com/images/P/0385504209.0...</td>\n",
       "      <td>580</td>\n",
       "      <td>4.568966</td>\n",
       "    </tr>\n",
       "    <tr>\n",
       "      <th>39</th>\n",
       "      <td>The Lovely Bones: A Novel</td>\n",
       "      <td>Alice Sebold</td>\n",
       "      <td>http://images.amazon.com/images/P/0316666343.0...</td>\n",
       "      <td>828</td>\n",
       "      <td>4.500000</td>\n",
       "    </tr>\n",
       "    <tr>\n",
       "      <th>40</th>\n",
       "      <td>Tuesdays with Morrie: An Old Man, a Young Man,...</td>\n",
       "      <td>MITCH ALBOM</td>\n",
       "      <td>http://images.amazon.com/images/P/0385484518.0...</td>\n",
       "      <td>304</td>\n",
       "      <td>4.421053</td>\n",
       "    </tr>\n",
       "    <tr>\n",
       "      <th>42</th>\n",
       "      <td>Nickel and Dimed: On (Not) Getting By in America</td>\n",
       "      <td>Barbara Ehrenreich</td>\n",
       "      <td>http://images.amazon.com/images/P/0805063897.0...</td>\n",
       "      <td>218</td>\n",
       "      <td>4.275229</td>\n",
       "    </tr>\n",
       "    <tr>\n",
       "      <th>44</th>\n",
       "      <td>Fahrenheit 451</td>\n",
       "      <td>Ray Bradbury</td>\n",
       "      <td>http://images.amazon.com/images/P/3257208626.0...</td>\n",
       "      <td>256</td>\n",
       "      <td>4.265625</td>\n",
       "    </tr>\n",
       "    <tr>\n",
       "      <th>55</th>\n",
       "      <td>Girl with a Pearl Earring</td>\n",
       "      <td>Tracy Chevalier</td>\n",
       "      <td>http://images.amazon.com/images/P/0452282152.0...</td>\n",
       "      <td>352</td>\n",
       "      <td>4.227273</td>\n",
       "    </tr>\n",
       "    <tr>\n",
       "      <th>56</th>\n",
       "      <td>Good in Bed</td>\n",
       "      <td>Jennifer Weiner</td>\n",
       "      <td>http://images.amazon.com/images/P/0743418174.0...</td>\n",
       "      <td>316</td>\n",
       "      <td>4.199367</td>\n",
       "    </tr>\n",
       "    <tr>\n",
       "      <th>58</th>\n",
       "      <td>The Red Tent (Bestselling Backlist)</td>\n",
       "      <td>Anita Diamant</td>\n",
       "      <td>http://images.amazon.com/images/P/0312195516.0...</td>\n",
       "      <td>464</td>\n",
       "      <td>4.183190</td>\n",
       "    </tr>\n",
       "    <tr>\n",
       "      <th>59</th>\n",
       "      <td>Where the Heart Is (Oprah's Book Club (Paperba...</td>\n",
       "      <td>Billie Letts</td>\n",
       "      <td>http://images.amazon.com/images/P/0446672211.0...</td>\n",
       "      <td>379</td>\n",
       "      <td>4.160950</td>\n",
       "    </tr>\n",
       "    <tr>\n",
       "      <th>60</th>\n",
       "      <td>A Prayer for Owen Meany</td>\n",
       "      <td>John Irving</td>\n",
       "      <td>http://images.amazon.com/images/P/0345361792.0...</td>\n",
       "      <td>260</td>\n",
       "      <td>4.046154</td>\n",
       "    </tr>\n",
       "    <tr>\n",
       "      <th>62</th>\n",
       "      <td>The Bean Trees</td>\n",
       "      <td>Barbara Kingsolver</td>\n",
       "      <td>http://images.amazon.com/images/P/0060915544.0...</td>\n",
       "      <td>257</td>\n",
       "      <td>4.038911</td>\n",
       "    </tr>\n",
       "    <tr>\n",
       "      <th>65</th>\n",
       "      <td>The Color Purple</td>\n",
       "      <td>Alice Walker</td>\n",
       "      <td>http://images.amazon.com/images/P/0671617028.0...</td>\n",
       "      <td>202</td>\n",
       "      <td>3.990099</td>\n",
       "    </tr>\n",
       "    <tr>\n",
       "      <th>71</th>\n",
       "      <td>Life of Pi</td>\n",
       "      <td>Yann Martel</td>\n",
       "      <td>http://images.amazon.com/images/P/0151008116.0...</td>\n",
       "      <td>417</td>\n",
       "      <td>3.976019</td>\n",
       "    </tr>\n",
       "    <tr>\n",
       "      <th>75</th>\n",
       "      <td>Skipping Christmas</td>\n",
       "      <td>JOHN GRISHAM</td>\n",
       "      <td>http://images.amazon.com/images/P/0385505833.0...</td>\n",
       "      <td>209</td>\n",
       "      <td>3.956938</td>\n",
       "    </tr>\n",
       "    <tr>\n",
       "      <th>80</th>\n",
       "      <td>Fast Food Nation: The Dark Side of the All-Ame...</td>\n",
       "      <td>Eric Schlosser</td>\n",
       "      <td>http://images.amazon.com/images/P/0060938455.0...</td>\n",
       "      <td>200</td>\n",
       "      <td>3.950000</td>\n",
       "    </tr>\n",
       "    <tr>\n",
       "      <th>81</th>\n",
       "      <td>Left Behind: A Novel of the Earth's Last Days ...</td>\n",
       "      <td>Tim Lahaye</td>\n",
       "      <td>http://images.amazon.com/images/P/0842329129.0...</td>\n",
       "      <td>217</td>\n",
       "      <td>3.940092</td>\n",
       "    </tr>\n",
       "    <tr>\n",
       "      <th>83</th>\n",
       "      <td>White Oleander : A Novel (Oprah's Book Club)</td>\n",
       "      <td>Janet Fitch</td>\n",
       "      <td>http://images.amazon.com/images/P/0316284955.0...</td>\n",
       "      <td>225</td>\n",
       "      <td>3.906667</td>\n",
       "    </tr>\n",
       "    <tr>\n",
       "      <th>84</th>\n",
       "      <td>White Oleander : A Novel</td>\n",
       "      <td>Janet Fitch</td>\n",
       "      <td>http://images.amazon.com/images/P/0316182540.0...</td>\n",
       "      <td>266</td>\n",
       "      <td>3.902256</td>\n",
       "    </tr>\n",
       "    <tr>\n",
       "      <th>87</th>\n",
       "      <td>Me Talk Pretty One Day</td>\n",
       "      <td>David Sedaris</td>\n",
       "      <td>http://images.amazon.com/images/P/0316776963.0...</td>\n",
       "      <td>307</td>\n",
       "      <td>3.872964</td>\n",
       "    </tr>\n",
       "    <tr>\n",
       "      <th>91</th>\n",
       "      <td>The Golden Compass (His Dark Materials, Book 1)</td>\n",
       "      <td>PHILIP PULLMAN</td>\n",
       "      <td>http://images.amazon.com/images/P/037582345X.0...</td>\n",
       "      <td>200</td>\n",
       "      <td>3.820000</td>\n",
       "    </tr>\n",
       "  </tbody>\n",
       "</table>\n",
       "</div>"
      ],
      "text/plain": [
       "                                           book_title         book_author  \\\n",
       "0        Harry Potter and the Goblet of Fire (Book 4)       J. K. Rowling   \n",
       "2   Harry Potter and the Order of the Phoenix (Boo...       J. K. Rowling   \n",
       "5   Harry Potter and the Prisoner of Azkaban (Book 3)       J. K. Rowling   \n",
       "8    Harry Potter and the Chamber of Secrets (Book 2)       J. K. Rowling   \n",
       "11  Harry Potter and the Sorcerer's Stone (Harry P...       J. K. Rowling   \n",
       "13  The Fellowship of the Ring (The Lord of the Ri...      J.R.R. TOLKIEN   \n",
       "19                              To Kill a Mockingbird          Harper Lee   \n",
       "25                            The Secret Life of Bees       Sue Monk Kidd   \n",
       "29                             The Catcher in the Rye       J.D. Salinger   \n",
       "35                 The Five People You Meet in Heaven         Mitch Albom   \n",
       "36                                  The Da Vinci Code           Dan Brown   \n",
       "39                          The Lovely Bones: A Novel        Alice Sebold   \n",
       "40  Tuesdays with Morrie: An Old Man, a Young Man,...         MITCH ALBOM   \n",
       "42   Nickel and Dimed: On (Not) Getting By in America  Barbara Ehrenreich   \n",
       "44                                     Fahrenheit 451        Ray Bradbury   \n",
       "55                          Girl with a Pearl Earring     Tracy Chevalier   \n",
       "56                                        Good in Bed     Jennifer Weiner   \n",
       "58                The Red Tent (Bestselling Backlist)       Anita Diamant   \n",
       "59  Where the Heart Is (Oprah's Book Club (Paperba...        Billie Letts   \n",
       "60                            A Prayer for Owen Meany         John Irving   \n",
       "62                                     The Bean Trees  Barbara Kingsolver   \n",
       "65                                   The Color Purple        Alice Walker   \n",
       "71                                         Life of Pi         Yann Martel   \n",
       "75                                 Skipping Christmas        JOHN GRISHAM   \n",
       "80  Fast Food Nation: The Dark Side of the All-Ame...      Eric Schlosser   \n",
       "81  Left Behind: A Novel of the Earth's Last Days ...          Tim Lahaye   \n",
       "83       White Oleander : A Novel (Oprah's Book Club)         Janet Fitch   \n",
       "84                           White Oleander : A Novel         Janet Fitch   \n",
       "87                             Me Talk Pretty One Day       David Sedaris   \n",
       "91    The Golden Compass (His Dark Materials, Book 1)      PHILIP PULLMAN   \n",
       "\n",
       "                                          image_url_m  num_ratings  avg_rating  \n",
       "0   http://images.amazon.com/images/P/0439139597.0...          222    5.729730  \n",
       "2   http://images.amazon.com/images/P/043935806X.0...          208    5.557692  \n",
       "5   http://images.amazon.com/images/P/0439136350.0...          266    5.511278  \n",
       "8   http://images.amazon.com/images/P/0439064872.0...          361    5.146814  \n",
       "11  http://images.amazon.com/images/P/059035342X.0...          361    4.963989  \n",
       "13  http://images.amazon.com/images/P/0345339703.0...          240    4.800000  \n",
       "19  http://images.amazon.com/images/P/0446310786.0...          321    4.691589  \n",
       "25  http://images.amazon.com/images/P/0142001740.0...          503    4.614314  \n",
       "29  http://images.amazon.com/images/P/0316769487.0...          260    4.603846  \n",
       "35  http://images.amazon.com/images/P/0786868716.0...          282    4.595745  \n",
       "36  http://images.amazon.com/images/P/0385504209.0...          580    4.568966  \n",
       "39  http://images.amazon.com/images/P/0316666343.0...          828    4.500000  \n",
       "40  http://images.amazon.com/images/P/0385484518.0...          304    4.421053  \n",
       "42  http://images.amazon.com/images/P/0805063897.0...          218    4.275229  \n",
       "44  http://images.amazon.com/images/P/3257208626.0...          256    4.265625  \n",
       "55  http://images.amazon.com/images/P/0452282152.0...          352    4.227273  \n",
       "56  http://images.amazon.com/images/P/0743418174.0...          316    4.199367  \n",
       "58  http://images.amazon.com/images/P/0312195516.0...          464    4.183190  \n",
       "59  http://images.amazon.com/images/P/0446672211.0...          379    4.160950  \n",
       "60  http://images.amazon.com/images/P/0345361792.0...          260    4.046154  \n",
       "62  http://images.amazon.com/images/P/0060915544.0...          257    4.038911  \n",
       "65  http://images.amazon.com/images/P/0671617028.0...          202    3.990099  \n",
       "71  http://images.amazon.com/images/P/0151008116.0...          417    3.976019  \n",
       "75  http://images.amazon.com/images/P/0385505833.0...          209    3.956938  \n",
       "80  http://images.amazon.com/images/P/0060938455.0...          200    3.950000  \n",
       "81  http://images.amazon.com/images/P/0842329129.0...          217    3.940092  \n",
       "83  http://images.amazon.com/images/P/0316284955.0...          225    3.906667  \n",
       "84  http://images.amazon.com/images/P/0316182540.0...          266    3.902256  \n",
       "87  http://images.amazon.com/images/P/0316776963.0...          307    3.872964  \n",
       "91  http://images.amazon.com/images/P/037582345X.0...          200    3.820000  "
      ]
     },
     "execution_count": 211,
     "metadata": {},
     "output_type": "execute_result"
    }
   ],
   "source": [
    "popular_df"
   ]
  },
  {
   "cell_type": "code",
   "execution_count": 234,
   "id": "1782cb1b",
   "metadata": {},
   "outputs": [
    {
     "ename": "TypeError",
     "evalue": "'DataFrame' object is not callable",
     "output_type": "error",
     "traceback": [
      "\u001b[1;31m---------------------------------------------------------------------------\u001b[0m",
      "\u001b[1;31mTypeError\u001b[0m                                 Traceback (most recent call last)",
      "Cell \u001b[1;32mIn[234], line 1\u001b[0m\n\u001b[1;32m----> 1\u001b[0m \u001b[43mpopular_df\u001b[49m\u001b[43m(\u001b[49m\u001b[38;5;241;43m65\u001b[39;49m\u001b[43m)\u001b[49m\n",
      "\u001b[1;31mTypeError\u001b[0m: 'DataFrame' object is not callable"
     ]
    }
   ],
   "source": [
    "popular_df"
   ]
  },
  {
   "cell_type": "markdown",
   "id": "274e1ab5",
   "metadata": {},
   "source": [
    "#### 2 . Collabrative Flitering "
   ]
  },
  {
   "cell_type": "code",
   "execution_count": 213,
   "id": "e6802b16",
   "metadata": {},
   "outputs": [
    {
     "data": {
      "text/html": [
       "<div>\n",
       "<style scoped>\n",
       "    .dataframe tbody tr th:only-of-type {\n",
       "        vertical-align: middle;\n",
       "    }\n",
       "\n",
       "    .dataframe tbody tr th {\n",
       "        vertical-align: top;\n",
       "    }\n",
       "\n",
       "    .dataframe thead th {\n",
       "        text-align: right;\n",
       "    }\n",
       "</style>\n",
       "<table border=\"1\" class=\"dataframe\">\n",
       "  <thead>\n",
       "    <tr style=\"text-align: right;\">\n",
       "      <th></th>\n",
       "      <th>user_id</th>\n",
       "      <th>isbn</th>\n",
       "      <th>book_rating</th>\n",
       "      <th>book_title</th>\n",
       "      <th>book_author</th>\n",
       "      <th>year_of_publication</th>\n",
       "      <th>publisher</th>\n",
       "      <th>image_url_s</th>\n",
       "      <th>image_url_m</th>\n",
       "      <th>image_url_l</th>\n",
       "    </tr>\n",
       "  </thead>\n",
       "  <tbody>\n",
       "    <tr>\n",
       "      <th>0</th>\n",
       "      <td>276725</td>\n",
       "      <td>034545104X</td>\n",
       "      <td>0.0</td>\n",
       "      <td>Flesh Tones: A Novel</td>\n",
       "      <td>M. J. Rose</td>\n",
       "      <td>2002</td>\n",
       "      <td>Ballantine Books</td>\n",
       "      <td>http://images.amazon.com/images/P/034545104X.0...</td>\n",
       "      <td>http://images.amazon.com/images/P/034545104X.0...</td>\n",
       "      <td>http://images.amazon.com/images/P/034545104X.0...</td>\n",
       "    </tr>\n",
       "    <tr>\n",
       "      <th>1</th>\n",
       "      <td>276727</td>\n",
       "      <td>0446520802</td>\n",
       "      <td>0.0</td>\n",
       "      <td>The Notebook</td>\n",
       "      <td>Nicholas Sparks</td>\n",
       "      <td>1996</td>\n",
       "      <td>Warner Books</td>\n",
       "      <td>http://images.amazon.com/images/P/0446520802.0...</td>\n",
       "      <td>http://images.amazon.com/images/P/0446520802.0...</td>\n",
       "      <td>http://images.amazon.com/images/P/0446520802.0...</td>\n",
       "    </tr>\n",
       "    <tr>\n",
       "      <th>2</th>\n",
       "      <td>276733</td>\n",
       "      <td>2080674722</td>\n",
       "      <td>0.0</td>\n",
       "      <td>Les Particules Elementaires</td>\n",
       "      <td>Michel Houellebecq</td>\n",
       "      <td>1998</td>\n",
       "      <td>Flammarion</td>\n",
       "      <td>http://images.amazon.com/images/P/2080674722.0...</td>\n",
       "      <td>http://images.amazon.com/images/P/2080674722.0...</td>\n",
       "      <td>http://images.amazon.com/images/P/2080674722.0...</td>\n",
       "    </tr>\n",
       "    <tr>\n",
       "      <th>3</th>\n",
       "      <td>276744</td>\n",
       "      <td>038550120X</td>\n",
       "      <td>7.0</td>\n",
       "      <td>A Painted House</td>\n",
       "      <td>JOHN GRISHAM</td>\n",
       "      <td>2001</td>\n",
       "      <td>Doubleday</td>\n",
       "      <td>http://images.amazon.com/images/P/038550120X.0...</td>\n",
       "      <td>http://images.amazon.com/images/P/038550120X.0...</td>\n",
       "      <td>http://images.amazon.com/images/P/038550120X.0...</td>\n",
       "    </tr>\n",
       "    <tr>\n",
       "      <th>4</th>\n",
       "      <td>276746</td>\n",
       "      <td>0425115801</td>\n",
       "      <td>0.0</td>\n",
       "      <td>Lightning</td>\n",
       "      <td>Dean R. Koontz</td>\n",
       "      <td>1996</td>\n",
       "      <td>Berkley Publishing Group</td>\n",
       "      <td>http://images.amazon.com/images/P/0425115801.0...</td>\n",
       "      <td>http://images.amazon.com/images/P/0425115801.0...</td>\n",
       "      <td>http://images.amazon.com/images/P/0425115801.0...</td>\n",
       "    </tr>\n",
       "    <tr>\n",
       "      <th>...</th>\n",
       "      <td>...</td>\n",
       "      <td>...</td>\n",
       "      <td>...</td>\n",
       "      <td>...</td>\n",
       "      <td>...</td>\n",
       "      <td>...</td>\n",
       "      <td>...</td>\n",
       "      <td>...</td>\n",
       "      <td>...</td>\n",
       "      <td>...</td>\n",
       "    </tr>\n",
       "    <tr>\n",
       "      <th>537542</th>\n",
       "      <td>174699</td>\n",
       "      <td>006101351X</td>\n",
       "      <td>0.0</td>\n",
       "      <td>The Perfect Storm : A True Story of Men Agains...</td>\n",
       "      <td>Sebastian Junger</td>\n",
       "      <td>1998</td>\n",
       "      <td>HarperTorch</td>\n",
       "      <td>http://images.amazon.com/images/P/006101351X.0...</td>\n",
       "      <td>http://images.amazon.com/images/P/006101351X.0...</td>\n",
       "      <td>http://images.amazon.com/images/P/006101351X.0...</td>\n",
       "    </tr>\n",
       "    <tr>\n",
       "      <th>537543</th>\n",
       "      <td>174699</td>\n",
       "      <td>0684848813</td>\n",
       "      <td>0.0</td>\n",
       "      <td>Burn Rate : How I Survived the Gold Rush Years...</td>\n",
       "      <td>Michael Wolff</td>\n",
       "      <td>1998</td>\n",
       "      <td>Simon &amp;amp; Schuster</td>\n",
       "      <td>http://images.amazon.com/images/P/0684848813.0...</td>\n",
       "      <td>http://images.amazon.com/images/P/0684848813.0...</td>\n",
       "      <td>http://images.amazon.com/images/P/0684848813.0...</td>\n",
       "    </tr>\n",
       "    <tr>\n",
       "      <th>537544</th>\n",
       "      <td>174700</td>\n",
       "      <td>0061091790</td>\n",
       "      <td>0.0</td>\n",
       "      <td>After All These Years</td>\n",
       "      <td>Susan Isaacs</td>\n",
       "      <td>1994</td>\n",
       "      <td>HarperTorch</td>\n",
       "      <td>http://images.amazon.com/images/P/0061091790.0...</td>\n",
       "      <td>http://images.amazon.com/images/P/0061091790.0...</td>\n",
       "      <td>http://images.amazon.com/images/P/0061091790.0...</td>\n",
       "    </tr>\n",
       "    <tr>\n",
       "      <th>537545</th>\n",
       "      <td>174700</td>\n",
       "      <td>0156007754</td>\n",
       "      <td>0.0</td>\n",
       "      <td>Blindness (Harvest Book)</td>\n",
       "      <td>Jose Saramago</td>\n",
       "      <td>1999</td>\n",
       "      <td>Harvest Books</td>\n",
       "      <td>http://images.amazon.com/images/P/0156007754.0...</td>\n",
       "      <td>http://images.amazon.com/images/P/0156007754.0...</td>\n",
       "      <td>http://images.amazon.com/images/P/0156007754.0...</td>\n",
       "    </tr>\n",
       "    <tr>\n",
       "      <th>537546</th>\n",
       "      <td>174700</td>\n",
       "      <td>0316666343</td>\n",
       "      <td>9.0</td>\n",
       "      <td>The Lovely Bones: A Novel</td>\n",
       "      <td>Alice Sebold</td>\n",
       "      <td>2002</td>\n",
       "      <td>Little, Brown</td>\n",
       "      <td>http://images.amazon.com/images/P/0316666343.0...</td>\n",
       "      <td>http://images.amazon.com/images/P/0316666343.0...</td>\n",
       "      <td>http://images.amazon.com/images/P/0316666343.0...</td>\n",
       "    </tr>\n",
       "  </tbody>\n",
       "</table>\n",
       "<p>537547 rows × 10 columns</p>\n",
       "</div>"
      ],
      "text/plain": [
       "        user_id        isbn  book_rating  \\\n",
       "0        276725  034545104X          0.0   \n",
       "1        276727  0446520802          0.0   \n",
       "2        276733  2080674722          0.0   \n",
       "3        276744  038550120X          7.0   \n",
       "4        276746  0425115801          0.0   \n",
       "...         ...         ...          ...   \n",
       "537542   174699  006101351X          0.0   \n",
       "537543   174699  0684848813          0.0   \n",
       "537544   174700  0061091790          0.0   \n",
       "537545   174700  0156007754          0.0   \n",
       "537546   174700  0316666343          9.0   \n",
       "\n",
       "                                               book_title         book_author  \\\n",
       "0                                    Flesh Tones: A Novel          M. J. Rose   \n",
       "1                                            The Notebook     Nicholas Sparks   \n",
       "2                             Les Particules Elementaires  Michel Houellebecq   \n",
       "3                                         A Painted House        JOHN GRISHAM   \n",
       "4                                               Lightning      Dean R. Koontz   \n",
       "...                                                   ...                 ...   \n",
       "537542  The Perfect Storm : A True Story of Men Agains...    Sebastian Junger   \n",
       "537543  Burn Rate : How I Survived the Gold Rush Years...       Michael Wolff   \n",
       "537544                              After All These Years        Susan Isaacs   \n",
       "537545                           Blindness (Harvest Book)       Jose Saramago   \n",
       "537546                          The Lovely Bones: A Novel        Alice Sebold   \n",
       "\n",
       "        year_of_publication                 publisher  \\\n",
       "0                      2002          Ballantine Books   \n",
       "1                      1996              Warner Books   \n",
       "2                      1998                Flammarion   \n",
       "3                      2001                 Doubleday   \n",
       "4                      1996  Berkley Publishing Group   \n",
       "...                     ...                       ...   \n",
       "537542                 1998               HarperTorch   \n",
       "537543                 1998      Simon &amp; Schuster   \n",
       "537544                 1994               HarperTorch   \n",
       "537545                 1999             Harvest Books   \n",
       "537546                 2002             Little, Brown   \n",
       "\n",
       "                                              image_url_s  \\\n",
       "0       http://images.amazon.com/images/P/034545104X.0...   \n",
       "1       http://images.amazon.com/images/P/0446520802.0...   \n",
       "2       http://images.amazon.com/images/P/2080674722.0...   \n",
       "3       http://images.amazon.com/images/P/038550120X.0...   \n",
       "4       http://images.amazon.com/images/P/0425115801.0...   \n",
       "...                                                   ...   \n",
       "537542  http://images.amazon.com/images/P/006101351X.0...   \n",
       "537543  http://images.amazon.com/images/P/0684848813.0...   \n",
       "537544  http://images.amazon.com/images/P/0061091790.0...   \n",
       "537545  http://images.amazon.com/images/P/0156007754.0...   \n",
       "537546  http://images.amazon.com/images/P/0316666343.0...   \n",
       "\n",
       "                                              image_url_m  \\\n",
       "0       http://images.amazon.com/images/P/034545104X.0...   \n",
       "1       http://images.amazon.com/images/P/0446520802.0...   \n",
       "2       http://images.amazon.com/images/P/2080674722.0...   \n",
       "3       http://images.amazon.com/images/P/038550120X.0...   \n",
       "4       http://images.amazon.com/images/P/0425115801.0...   \n",
       "...                                                   ...   \n",
       "537542  http://images.amazon.com/images/P/006101351X.0...   \n",
       "537543  http://images.amazon.com/images/P/0684848813.0...   \n",
       "537544  http://images.amazon.com/images/P/0061091790.0...   \n",
       "537545  http://images.amazon.com/images/P/0156007754.0...   \n",
       "537546  http://images.amazon.com/images/P/0316666343.0...   \n",
       "\n",
       "                                              image_url_l  \n",
       "0       http://images.amazon.com/images/P/034545104X.0...  \n",
       "1       http://images.amazon.com/images/P/0446520802.0...  \n",
       "2       http://images.amazon.com/images/P/2080674722.0...  \n",
       "3       http://images.amazon.com/images/P/038550120X.0...  \n",
       "4       http://images.amazon.com/images/P/0425115801.0...  \n",
       "...                                                   ...  \n",
       "537542  http://images.amazon.com/images/P/006101351X.0...  \n",
       "537543  http://images.amazon.com/images/P/0684848813.0...  \n",
       "537544  http://images.amazon.com/images/P/0061091790.0...  \n",
       "537545  http://images.amazon.com/images/P/0156007754.0...  \n",
       "537546  http://images.amazon.com/images/P/0316666343.0...  \n",
       "\n",
       "[537547 rows x 10 columns]"
      ]
     },
     "execution_count": 213,
     "metadata": {},
     "output_type": "execute_result"
    }
   ],
   "source": [
    "ratings_with_name"
   ]
  },
  {
   "cell_type": "code",
   "execution_count": 214,
   "id": "03b51776",
   "metadata": {},
   "outputs": [
    {
     "data": {
      "text/plain": [
       "Index([   254,   2276,   2766,   2977,   3363,   4017,   4385,   6251,   6323,\n",
       "         6543,\n",
       "       ...\n",
       "       171118, 172030, 172512, 172742, 173291, 173415, 174216, 174304, 277427,\n",
       "       278418],\n",
       "      dtype='int64', name='user_id', length=401)"
      ]
     },
     "execution_count": 214,
     "metadata": {},
     "output_type": "execute_result"
    }
   ],
   "source": [
    "x = ratings_with_name.groupby('user_id').count()['book_rating'] > 200\n",
    "most_users = x[x].index\n",
    "most_users"
   ]
  },
  {
   "cell_type": "code",
   "execution_count": 215,
   "id": "42c9a530",
   "metadata": {},
   "outputs": [],
   "source": [
    "filtered_rating = ratings_with_name[ratings_with_name['user_id'].isin(most_users)]"
   ]
  },
  {
   "cell_type": "code",
   "execution_count": 216,
   "id": "76cfda3b",
   "metadata": {},
   "outputs": [
    {
     "data": {
      "text/plain": [
       "Index(['1st to Die: A Novel', '2nd Chance', 'A Bend in the Road',\n",
       "       'A Is for Alibi (Kinsey Millhone Mysteries (Paperback))',\n",
       "       'A Map of the World', 'A Painted House', 'A Prayer for Owen Meany',\n",
       "       'A Thousand Acres (Ballantine Reader's Circle)', 'A Time to Kill',\n",
       "       'A Walk to Remember',\n",
       "       ...\n",
       "       'When the Wind Blows',\n",
       "       'Where the Heart Is (Oprah's Book Club (Paperback))',\n",
       "       'While I Was Gone', 'Whispers', 'White Oleander : A Novel',\n",
       "       'White Oleander : A Novel (Oprah's Book Club)',\n",
       "       'Wicked: The Life and Times of the Wicked Witch of the West',\n",
       "       'Wild Animus', 'Wish You Well', '\\O\\\" Is for Outlaw\"'],\n",
       "      dtype='object', name='book_title', length=224)"
      ]
     },
     "execution_count": 216,
     "metadata": {},
     "output_type": "execute_result"
    }
   ],
   "source": [
    "y = filtered_rating.groupby('book_title').count()['book_rating']>=50\n",
    "famous_books = y[y].index\n",
    "famous_books"
   ]
  },
  {
   "cell_type": "code",
   "execution_count": 217,
   "id": "57d00027",
   "metadata": {},
   "outputs": [],
   "source": [
    "final_ratings = filtered_rating[filtered_rating['book_title'].isin(famous_books)]"
   ]
  },
  {
   "cell_type": "code",
   "execution_count": 218,
   "id": "78b5c12c",
   "metadata": {},
   "outputs": [
    {
     "data": {
      "text/html": [
       "<div>\n",
       "<style scoped>\n",
       "    .dataframe tbody tr th:only-of-type {\n",
       "        vertical-align: middle;\n",
       "    }\n",
       "\n",
       "    .dataframe tbody tr th {\n",
       "        vertical-align: top;\n",
       "    }\n",
       "\n",
       "    .dataframe thead th {\n",
       "        text-align: right;\n",
       "    }\n",
       "</style>\n",
       "<table border=\"1\" class=\"dataframe\">\n",
       "  <thead>\n",
       "    <tr style=\"text-align: right;\">\n",
       "      <th>user_id</th>\n",
       "      <th>254</th>\n",
       "      <th>2276</th>\n",
       "      <th>2766</th>\n",
       "      <th>2977</th>\n",
       "      <th>3363</th>\n",
       "      <th>4017</th>\n",
       "      <th>4385</th>\n",
       "      <th>6251</th>\n",
       "      <th>6323</th>\n",
       "      <th>6543</th>\n",
       "      <th>...</th>\n",
       "      <th>171118</th>\n",
       "      <th>172030</th>\n",
       "      <th>172512</th>\n",
       "      <th>172742</th>\n",
       "      <th>173291</th>\n",
       "      <th>173415</th>\n",
       "      <th>174216</th>\n",
       "      <th>174304</th>\n",
       "      <th>277427</th>\n",
       "      <th>278418</th>\n",
       "    </tr>\n",
       "    <tr>\n",
       "      <th>book_title</th>\n",
       "      <th></th>\n",
       "      <th></th>\n",
       "      <th></th>\n",
       "      <th></th>\n",
       "      <th></th>\n",
       "      <th></th>\n",
       "      <th></th>\n",
       "      <th></th>\n",
       "      <th></th>\n",
       "      <th></th>\n",
       "      <th></th>\n",
       "      <th></th>\n",
       "      <th></th>\n",
       "      <th></th>\n",
       "      <th></th>\n",
       "      <th></th>\n",
       "      <th></th>\n",
       "      <th></th>\n",
       "      <th></th>\n",
       "      <th></th>\n",
       "      <th></th>\n",
       "    </tr>\n",
       "  </thead>\n",
       "  <tbody>\n",
       "    <tr>\n",
       "      <th>1st to Die: A Novel</th>\n",
       "      <td>NaN</td>\n",
       "      <td>NaN</td>\n",
       "      <td>NaN</td>\n",
       "      <td>NaN</td>\n",
       "      <td>NaN</td>\n",
       "      <td>NaN</td>\n",
       "      <td>NaN</td>\n",
       "      <td>NaN</td>\n",
       "      <td>NaN</td>\n",
       "      <td>9.0</td>\n",
       "      <td>...</td>\n",
       "      <td>NaN</td>\n",
       "      <td>NaN</td>\n",
       "      <td>NaN</td>\n",
       "      <td>NaN</td>\n",
       "      <td>NaN</td>\n",
       "      <td>NaN</td>\n",
       "      <td>NaN</td>\n",
       "      <td>NaN</td>\n",
       "      <td>NaN</td>\n",
       "      <td>NaN</td>\n",
       "    </tr>\n",
       "    <tr>\n",
       "      <th>2nd Chance</th>\n",
       "      <td>NaN</td>\n",
       "      <td>10.0</td>\n",
       "      <td>NaN</td>\n",
       "      <td>NaN</td>\n",
       "      <td>NaN</td>\n",
       "      <td>NaN</td>\n",
       "      <td>NaN</td>\n",
       "      <td>NaN</td>\n",
       "      <td>NaN</td>\n",
       "      <td>0.0</td>\n",
       "      <td>...</td>\n",
       "      <td>NaN</td>\n",
       "      <td>NaN</td>\n",
       "      <td>NaN</td>\n",
       "      <td>0.0</td>\n",
       "      <td>NaN</td>\n",
       "      <td>NaN</td>\n",
       "      <td>NaN</td>\n",
       "      <td>NaN</td>\n",
       "      <td>NaN</td>\n",
       "      <td>NaN</td>\n",
       "    </tr>\n",
       "    <tr>\n",
       "      <th>A Bend in the Road</th>\n",
       "      <td>0.0</td>\n",
       "      <td>NaN</td>\n",
       "      <td>7.0</td>\n",
       "      <td>NaN</td>\n",
       "      <td>NaN</td>\n",
       "      <td>NaN</td>\n",
       "      <td>NaN</td>\n",
       "      <td>NaN</td>\n",
       "      <td>NaN</td>\n",
       "      <td>NaN</td>\n",
       "      <td>...</td>\n",
       "      <td>NaN</td>\n",
       "      <td>NaN</td>\n",
       "      <td>0.0</td>\n",
       "      <td>NaN</td>\n",
       "      <td>NaN</td>\n",
       "      <td>NaN</td>\n",
       "      <td>0.0</td>\n",
       "      <td>NaN</td>\n",
       "      <td>NaN</td>\n",
       "      <td>NaN</td>\n",
       "    </tr>\n",
       "    <tr>\n",
       "      <th>A Is for Alibi (Kinsey Millhone Mysteries (Paperback))</th>\n",
       "      <td>NaN</td>\n",
       "      <td>NaN</td>\n",
       "      <td>7.0</td>\n",
       "      <td>NaN</td>\n",
       "      <td>NaN</td>\n",
       "      <td>NaN</td>\n",
       "      <td>NaN</td>\n",
       "      <td>NaN</td>\n",
       "      <td>NaN</td>\n",
       "      <td>NaN</td>\n",
       "      <td>...</td>\n",
       "      <td>NaN</td>\n",
       "      <td>0.0</td>\n",
       "      <td>0.0</td>\n",
       "      <td>NaN</td>\n",
       "      <td>0.0</td>\n",
       "      <td>NaN</td>\n",
       "      <td>NaN</td>\n",
       "      <td>NaN</td>\n",
       "      <td>NaN</td>\n",
       "      <td>NaN</td>\n",
       "    </tr>\n",
       "    <tr>\n",
       "      <th>A Map of the World</th>\n",
       "      <td>NaN</td>\n",
       "      <td>NaN</td>\n",
       "      <td>NaN</td>\n",
       "      <td>NaN</td>\n",
       "      <td>NaN</td>\n",
       "      <td>NaN</td>\n",
       "      <td>NaN</td>\n",
       "      <td>NaN</td>\n",
       "      <td>NaN</td>\n",
       "      <td>NaN</td>\n",
       "      <td>...</td>\n",
       "      <td>NaN</td>\n",
       "      <td>NaN</td>\n",
       "      <td>NaN</td>\n",
       "      <td>0.0</td>\n",
       "      <td>NaN</td>\n",
       "      <td>NaN</td>\n",
       "      <td>NaN</td>\n",
       "      <td>NaN</td>\n",
       "      <td>NaN</td>\n",
       "      <td>NaN</td>\n",
       "    </tr>\n",
       "  </tbody>\n",
       "</table>\n",
       "<p>5 rows × 400 columns</p>\n",
       "</div>"
      ],
      "text/plain": [
       "user_id                                             254     2276    2766    \\\n",
       "book_title                                                                   \n",
       "1st to Die: A Novel                                    NaN     NaN     NaN   \n",
       "2nd Chance                                             NaN    10.0     NaN   \n",
       "A Bend in the Road                                     0.0     NaN     7.0   \n",
       "A Is for Alibi (Kinsey Millhone Mysteries (Pape...     NaN     NaN     7.0   \n",
       "A Map of the World                                     NaN     NaN     NaN   \n",
       "\n",
       "user_id                                             2977    3363    4017    \\\n",
       "book_title                                                                   \n",
       "1st to Die: A Novel                                    NaN     NaN     NaN   \n",
       "2nd Chance                                             NaN     NaN     NaN   \n",
       "A Bend in the Road                                     NaN     NaN     NaN   \n",
       "A Is for Alibi (Kinsey Millhone Mysteries (Pape...     NaN     NaN     NaN   \n",
       "A Map of the World                                     NaN     NaN     NaN   \n",
       "\n",
       "user_id                                             4385    6251    6323    \\\n",
       "book_title                                                                   \n",
       "1st to Die: A Novel                                    NaN     NaN     NaN   \n",
       "2nd Chance                                             NaN     NaN     NaN   \n",
       "A Bend in the Road                                     NaN     NaN     NaN   \n",
       "A Is for Alibi (Kinsey Millhone Mysteries (Pape...     NaN     NaN     NaN   \n",
       "A Map of the World                                     NaN     NaN     NaN   \n",
       "\n",
       "user_id                                             6543    ...  171118  \\\n",
       "book_title                                                  ...           \n",
       "1st to Die: A Novel                                    9.0  ...     NaN   \n",
       "2nd Chance                                             0.0  ...     NaN   \n",
       "A Bend in the Road                                     NaN  ...     NaN   \n",
       "A Is for Alibi (Kinsey Millhone Mysteries (Pape...     NaN  ...     NaN   \n",
       "A Map of the World                                     NaN  ...     NaN   \n",
       "\n",
       "user_id                                             172030  172512  172742  \\\n",
       "book_title                                                                   \n",
       "1st to Die: A Novel                                    NaN     NaN     NaN   \n",
       "2nd Chance                                             NaN     NaN     0.0   \n",
       "A Bend in the Road                                     NaN     0.0     NaN   \n",
       "A Is for Alibi (Kinsey Millhone Mysteries (Pape...     0.0     0.0     NaN   \n",
       "A Map of the World                                     NaN     NaN     0.0   \n",
       "\n",
       "user_id                                             173291  173415  174216  \\\n",
       "book_title                                                                   \n",
       "1st to Die: A Novel                                    NaN     NaN     NaN   \n",
       "2nd Chance                                             NaN     NaN     NaN   \n",
       "A Bend in the Road                                     NaN     NaN     0.0   \n",
       "A Is for Alibi (Kinsey Millhone Mysteries (Pape...     0.0     NaN     NaN   \n",
       "A Map of the World                                     NaN     NaN     NaN   \n",
       "\n",
       "user_id                                             174304  277427  278418  \n",
       "book_title                                                                  \n",
       "1st to Die: A Novel                                    NaN     NaN     NaN  \n",
       "2nd Chance                                             NaN     NaN     NaN  \n",
       "A Bend in the Road                                     NaN     NaN     NaN  \n",
       "A Is for Alibi (Kinsey Millhone Mysteries (Pape...     NaN     NaN     NaN  \n",
       "A Map of the World                                     NaN     NaN     NaN  \n",
       "\n",
       "[5 rows x 400 columns]"
      ]
     },
     "execution_count": 218,
     "metadata": {},
     "output_type": "execute_result"
    }
   ],
   "source": [
    "pt = final_ratings.pivot_table(index='book_title',columns='user_id',values='book_rating')\n",
    "pt.head()"
   ]
  },
  {
   "cell_type": "code",
   "execution_count": 219,
   "id": "df42db70",
   "metadata": {},
   "outputs": [
    {
     "data": {
      "text/html": [
       "<div>\n",
       "<style scoped>\n",
       "    .dataframe tbody tr th:only-of-type {\n",
       "        vertical-align: middle;\n",
       "    }\n",
       "\n",
       "    .dataframe tbody tr th {\n",
       "        vertical-align: top;\n",
       "    }\n",
       "\n",
       "    .dataframe thead th {\n",
       "        text-align: right;\n",
       "    }\n",
       "</style>\n",
       "<table border=\"1\" class=\"dataframe\">\n",
       "  <thead>\n",
       "    <tr style=\"text-align: right;\">\n",
       "      <th>user_id</th>\n",
       "      <th>254</th>\n",
       "      <th>2276</th>\n",
       "      <th>2766</th>\n",
       "      <th>2977</th>\n",
       "      <th>3363</th>\n",
       "      <th>4017</th>\n",
       "      <th>4385</th>\n",
       "      <th>6251</th>\n",
       "      <th>6323</th>\n",
       "      <th>6543</th>\n",
       "      <th>...</th>\n",
       "      <th>171118</th>\n",
       "      <th>172030</th>\n",
       "      <th>172512</th>\n",
       "      <th>172742</th>\n",
       "      <th>173291</th>\n",
       "      <th>173415</th>\n",
       "      <th>174216</th>\n",
       "      <th>174304</th>\n",
       "      <th>277427</th>\n",
       "      <th>278418</th>\n",
       "    </tr>\n",
       "    <tr>\n",
       "      <th>book_title</th>\n",
       "      <th></th>\n",
       "      <th></th>\n",
       "      <th></th>\n",
       "      <th></th>\n",
       "      <th></th>\n",
       "      <th></th>\n",
       "      <th></th>\n",
       "      <th></th>\n",
       "      <th></th>\n",
       "      <th></th>\n",
       "      <th></th>\n",
       "      <th></th>\n",
       "      <th></th>\n",
       "      <th></th>\n",
       "      <th></th>\n",
       "      <th></th>\n",
       "      <th></th>\n",
       "      <th></th>\n",
       "      <th></th>\n",
       "      <th></th>\n",
       "      <th></th>\n",
       "    </tr>\n",
       "  </thead>\n",
       "  <tbody>\n",
       "    <tr>\n",
       "      <th>1st to Die: A Novel</th>\n",
       "      <td>0.0</td>\n",
       "      <td>0.0</td>\n",
       "      <td>0.0</td>\n",
       "      <td>0.0</td>\n",
       "      <td>0.0</td>\n",
       "      <td>0.0</td>\n",
       "      <td>0.0</td>\n",
       "      <td>0.0</td>\n",
       "      <td>0.0</td>\n",
       "      <td>9.0</td>\n",
       "      <td>...</td>\n",
       "      <td>0.0</td>\n",
       "      <td>0.0</td>\n",
       "      <td>0.0</td>\n",
       "      <td>0.0</td>\n",
       "      <td>0.0</td>\n",
       "      <td>0.0</td>\n",
       "      <td>0.0</td>\n",
       "      <td>0.0</td>\n",
       "      <td>0.0</td>\n",
       "      <td>0.0</td>\n",
       "    </tr>\n",
       "    <tr>\n",
       "      <th>2nd Chance</th>\n",
       "      <td>0.0</td>\n",
       "      <td>10.0</td>\n",
       "      <td>0.0</td>\n",
       "      <td>0.0</td>\n",
       "      <td>0.0</td>\n",
       "      <td>0.0</td>\n",
       "      <td>0.0</td>\n",
       "      <td>0.0</td>\n",
       "      <td>0.0</td>\n",
       "      <td>0.0</td>\n",
       "      <td>...</td>\n",
       "      <td>0.0</td>\n",
       "      <td>0.0</td>\n",
       "      <td>0.0</td>\n",
       "      <td>0.0</td>\n",
       "      <td>0.0</td>\n",
       "      <td>0.0</td>\n",
       "      <td>0.0</td>\n",
       "      <td>0.0</td>\n",
       "      <td>0.0</td>\n",
       "      <td>0.0</td>\n",
       "    </tr>\n",
       "    <tr>\n",
       "      <th>A Bend in the Road</th>\n",
       "      <td>0.0</td>\n",
       "      <td>0.0</td>\n",
       "      <td>7.0</td>\n",
       "      <td>0.0</td>\n",
       "      <td>0.0</td>\n",
       "      <td>0.0</td>\n",
       "      <td>0.0</td>\n",
       "      <td>0.0</td>\n",
       "      <td>0.0</td>\n",
       "      <td>0.0</td>\n",
       "      <td>...</td>\n",
       "      <td>0.0</td>\n",
       "      <td>0.0</td>\n",
       "      <td>0.0</td>\n",
       "      <td>0.0</td>\n",
       "      <td>0.0</td>\n",
       "      <td>0.0</td>\n",
       "      <td>0.0</td>\n",
       "      <td>0.0</td>\n",
       "      <td>0.0</td>\n",
       "      <td>0.0</td>\n",
       "    </tr>\n",
       "    <tr>\n",
       "      <th>A Is for Alibi (Kinsey Millhone Mysteries (Paperback))</th>\n",
       "      <td>0.0</td>\n",
       "      <td>0.0</td>\n",
       "      <td>7.0</td>\n",
       "      <td>0.0</td>\n",
       "      <td>0.0</td>\n",
       "      <td>0.0</td>\n",
       "      <td>0.0</td>\n",
       "      <td>0.0</td>\n",
       "      <td>0.0</td>\n",
       "      <td>0.0</td>\n",
       "      <td>...</td>\n",
       "      <td>0.0</td>\n",
       "      <td>0.0</td>\n",
       "      <td>0.0</td>\n",
       "      <td>0.0</td>\n",
       "      <td>0.0</td>\n",
       "      <td>0.0</td>\n",
       "      <td>0.0</td>\n",
       "      <td>0.0</td>\n",
       "      <td>0.0</td>\n",
       "      <td>0.0</td>\n",
       "    </tr>\n",
       "    <tr>\n",
       "      <th>A Map of the World</th>\n",
       "      <td>0.0</td>\n",
       "      <td>0.0</td>\n",
       "      <td>0.0</td>\n",
       "      <td>0.0</td>\n",
       "      <td>0.0</td>\n",
       "      <td>0.0</td>\n",
       "      <td>0.0</td>\n",
       "      <td>0.0</td>\n",
       "      <td>0.0</td>\n",
       "      <td>0.0</td>\n",
       "      <td>...</td>\n",
       "      <td>0.0</td>\n",
       "      <td>0.0</td>\n",
       "      <td>0.0</td>\n",
       "      <td>0.0</td>\n",
       "      <td>0.0</td>\n",
       "      <td>0.0</td>\n",
       "      <td>0.0</td>\n",
       "      <td>0.0</td>\n",
       "      <td>0.0</td>\n",
       "      <td>0.0</td>\n",
       "    </tr>\n",
       "    <tr>\n",
       "      <th>...</th>\n",
       "      <td>...</td>\n",
       "      <td>...</td>\n",
       "      <td>...</td>\n",
       "      <td>...</td>\n",
       "      <td>...</td>\n",
       "      <td>...</td>\n",
       "      <td>...</td>\n",
       "      <td>...</td>\n",
       "      <td>...</td>\n",
       "      <td>...</td>\n",
       "      <td>...</td>\n",
       "      <td>...</td>\n",
       "      <td>...</td>\n",
       "      <td>...</td>\n",
       "      <td>...</td>\n",
       "      <td>...</td>\n",
       "      <td>...</td>\n",
       "      <td>...</td>\n",
       "      <td>...</td>\n",
       "      <td>...</td>\n",
       "      <td>...</td>\n",
       "    </tr>\n",
       "    <tr>\n",
       "      <th>White Oleander : A Novel (Oprah's Book Club)</th>\n",
       "      <td>0.0</td>\n",
       "      <td>0.0</td>\n",
       "      <td>0.0</td>\n",
       "      <td>0.0</td>\n",
       "      <td>0.0</td>\n",
       "      <td>0.0</td>\n",
       "      <td>0.0</td>\n",
       "      <td>0.0</td>\n",
       "      <td>0.0</td>\n",
       "      <td>0.0</td>\n",
       "      <td>...</td>\n",
       "      <td>0.0</td>\n",
       "      <td>0.0</td>\n",
       "      <td>0.0</td>\n",
       "      <td>0.0</td>\n",
       "      <td>0.0</td>\n",
       "      <td>8.0</td>\n",
       "      <td>0.0</td>\n",
       "      <td>0.0</td>\n",
       "      <td>0.0</td>\n",
       "      <td>0.0</td>\n",
       "    </tr>\n",
       "    <tr>\n",
       "      <th>Wicked: The Life and Times of the Wicked Witch of the West</th>\n",
       "      <td>0.0</td>\n",
       "      <td>0.0</td>\n",
       "      <td>0.0</td>\n",
       "      <td>0.0</td>\n",
       "      <td>0.0</td>\n",
       "      <td>0.0</td>\n",
       "      <td>0.0</td>\n",
       "      <td>0.0</td>\n",
       "      <td>0.0</td>\n",
       "      <td>10.0</td>\n",
       "      <td>...</td>\n",
       "      <td>0.0</td>\n",
       "      <td>0.0</td>\n",
       "      <td>0.0</td>\n",
       "      <td>0.0</td>\n",
       "      <td>0.0</td>\n",
       "      <td>0.0</td>\n",
       "      <td>0.0</td>\n",
       "      <td>0.0</td>\n",
       "      <td>0.0</td>\n",
       "      <td>0.0</td>\n",
       "    </tr>\n",
       "    <tr>\n",
       "      <th>Wild Animus</th>\n",
       "      <td>0.0</td>\n",
       "      <td>0.0</td>\n",
       "      <td>6.0</td>\n",
       "      <td>0.0</td>\n",
       "      <td>0.0</td>\n",
       "      <td>0.0</td>\n",
       "      <td>0.0</td>\n",
       "      <td>0.0</td>\n",
       "      <td>0.0</td>\n",
       "      <td>0.0</td>\n",
       "      <td>...</td>\n",
       "      <td>0.0</td>\n",
       "      <td>0.0</td>\n",
       "      <td>0.0</td>\n",
       "      <td>0.0</td>\n",
       "      <td>0.0</td>\n",
       "      <td>0.0</td>\n",
       "      <td>0.0</td>\n",
       "      <td>0.0</td>\n",
       "      <td>0.0</td>\n",
       "      <td>0.0</td>\n",
       "    </tr>\n",
       "    <tr>\n",
       "      <th>Wish You Well</th>\n",
       "      <td>0.0</td>\n",
       "      <td>0.0</td>\n",
       "      <td>0.0</td>\n",
       "      <td>0.0</td>\n",
       "      <td>0.0</td>\n",
       "      <td>0.0</td>\n",
       "      <td>0.0</td>\n",
       "      <td>0.0</td>\n",
       "      <td>0.0</td>\n",
       "      <td>0.0</td>\n",
       "      <td>...</td>\n",
       "      <td>0.0</td>\n",
       "      <td>0.0</td>\n",
       "      <td>0.0</td>\n",
       "      <td>0.0</td>\n",
       "      <td>0.0</td>\n",
       "      <td>0.0</td>\n",
       "      <td>0.0</td>\n",
       "      <td>0.0</td>\n",
       "      <td>0.0</td>\n",
       "      <td>0.0</td>\n",
       "    </tr>\n",
       "    <tr>\n",
       "      <th>\\O\\\" Is for Outlaw\"</th>\n",
       "      <td>0.0</td>\n",
       "      <td>0.0</td>\n",
       "      <td>0.0</td>\n",
       "      <td>0.0</td>\n",
       "      <td>0.0</td>\n",
       "      <td>0.0</td>\n",
       "      <td>0.0</td>\n",
       "      <td>0.0</td>\n",
       "      <td>0.0</td>\n",
       "      <td>0.0</td>\n",
       "      <td>...</td>\n",
       "      <td>0.0</td>\n",
       "      <td>0.0</td>\n",
       "      <td>0.0</td>\n",
       "      <td>0.0</td>\n",
       "      <td>0.0</td>\n",
       "      <td>0.0</td>\n",
       "      <td>0.0</td>\n",
       "      <td>0.0</td>\n",
       "      <td>0.0</td>\n",
       "      <td>0.0</td>\n",
       "    </tr>\n",
       "  </tbody>\n",
       "</table>\n",
       "<p>224 rows × 400 columns</p>\n",
       "</div>"
      ],
      "text/plain": [
       "user_id                                             254     2276    2766    \\\n",
       "book_title                                                                   \n",
       "1st to Die: A Novel                                    0.0     0.0     0.0   \n",
       "2nd Chance                                             0.0    10.0     0.0   \n",
       "A Bend in the Road                                     0.0     0.0     7.0   \n",
       "A Is for Alibi (Kinsey Millhone Mysteries (Pape...     0.0     0.0     7.0   \n",
       "A Map of the World                                     0.0     0.0     0.0   \n",
       "...                                                    ...     ...     ...   \n",
       "White Oleander : A Novel (Oprah's Book Club)           0.0     0.0     0.0   \n",
       "Wicked: The Life and Times of the Wicked Witch ...     0.0     0.0     0.0   \n",
       "Wild Animus                                            0.0     0.0     6.0   \n",
       "Wish You Well                                          0.0     0.0     0.0   \n",
       "\\O\\\" Is for Outlaw\"                                    0.0     0.0     0.0   \n",
       "\n",
       "user_id                                             2977    3363    4017    \\\n",
       "book_title                                                                   \n",
       "1st to Die: A Novel                                    0.0     0.0     0.0   \n",
       "2nd Chance                                             0.0     0.0     0.0   \n",
       "A Bend in the Road                                     0.0     0.0     0.0   \n",
       "A Is for Alibi (Kinsey Millhone Mysteries (Pape...     0.0     0.0     0.0   \n",
       "A Map of the World                                     0.0     0.0     0.0   \n",
       "...                                                    ...     ...     ...   \n",
       "White Oleander : A Novel (Oprah's Book Club)           0.0     0.0     0.0   \n",
       "Wicked: The Life and Times of the Wicked Witch ...     0.0     0.0     0.0   \n",
       "Wild Animus                                            0.0     0.0     0.0   \n",
       "Wish You Well                                          0.0     0.0     0.0   \n",
       "\\O\\\" Is for Outlaw\"                                    0.0     0.0     0.0   \n",
       "\n",
       "user_id                                             4385    6251    6323    \\\n",
       "book_title                                                                   \n",
       "1st to Die: A Novel                                    0.0     0.0     0.0   \n",
       "2nd Chance                                             0.0     0.0     0.0   \n",
       "A Bend in the Road                                     0.0     0.0     0.0   \n",
       "A Is for Alibi (Kinsey Millhone Mysteries (Pape...     0.0     0.0     0.0   \n",
       "A Map of the World                                     0.0     0.0     0.0   \n",
       "...                                                    ...     ...     ...   \n",
       "White Oleander : A Novel (Oprah's Book Club)           0.0     0.0     0.0   \n",
       "Wicked: The Life and Times of the Wicked Witch ...     0.0     0.0     0.0   \n",
       "Wild Animus                                            0.0     0.0     0.0   \n",
       "Wish You Well                                          0.0     0.0     0.0   \n",
       "\\O\\\" Is for Outlaw\"                                    0.0     0.0     0.0   \n",
       "\n",
       "user_id                                             6543    ...  171118  \\\n",
       "book_title                                                  ...           \n",
       "1st to Die: A Novel                                    9.0  ...     0.0   \n",
       "2nd Chance                                             0.0  ...     0.0   \n",
       "A Bend in the Road                                     0.0  ...     0.0   \n",
       "A Is for Alibi (Kinsey Millhone Mysteries (Pape...     0.0  ...     0.0   \n",
       "A Map of the World                                     0.0  ...     0.0   \n",
       "...                                                    ...  ...     ...   \n",
       "White Oleander : A Novel (Oprah's Book Club)           0.0  ...     0.0   \n",
       "Wicked: The Life and Times of the Wicked Witch ...    10.0  ...     0.0   \n",
       "Wild Animus                                            0.0  ...     0.0   \n",
       "Wish You Well                                          0.0  ...     0.0   \n",
       "\\O\\\" Is for Outlaw\"                                    0.0  ...     0.0   \n",
       "\n",
       "user_id                                             172030  172512  172742  \\\n",
       "book_title                                                                   \n",
       "1st to Die: A Novel                                    0.0     0.0     0.0   \n",
       "2nd Chance                                             0.0     0.0     0.0   \n",
       "A Bend in the Road                                     0.0     0.0     0.0   \n",
       "A Is for Alibi (Kinsey Millhone Mysteries (Pape...     0.0     0.0     0.0   \n",
       "A Map of the World                                     0.0     0.0     0.0   \n",
       "...                                                    ...     ...     ...   \n",
       "White Oleander : A Novel (Oprah's Book Club)           0.0     0.0     0.0   \n",
       "Wicked: The Life and Times of the Wicked Witch ...     0.0     0.0     0.0   \n",
       "Wild Animus                                            0.0     0.0     0.0   \n",
       "Wish You Well                                          0.0     0.0     0.0   \n",
       "\\O\\\" Is for Outlaw\"                                    0.0     0.0     0.0   \n",
       "\n",
       "user_id                                             173291  173415  174216  \\\n",
       "book_title                                                                   \n",
       "1st to Die: A Novel                                    0.0     0.0     0.0   \n",
       "2nd Chance                                             0.0     0.0     0.0   \n",
       "A Bend in the Road                                     0.0     0.0     0.0   \n",
       "A Is for Alibi (Kinsey Millhone Mysteries (Pape...     0.0     0.0     0.0   \n",
       "A Map of the World                                     0.0     0.0     0.0   \n",
       "...                                                    ...     ...     ...   \n",
       "White Oleander : A Novel (Oprah's Book Club)           0.0     8.0     0.0   \n",
       "Wicked: The Life and Times of the Wicked Witch ...     0.0     0.0     0.0   \n",
       "Wild Animus                                            0.0     0.0     0.0   \n",
       "Wish You Well                                          0.0     0.0     0.0   \n",
       "\\O\\\" Is for Outlaw\"                                    0.0     0.0     0.0   \n",
       "\n",
       "user_id                                             174304  277427  278418  \n",
       "book_title                                                                  \n",
       "1st to Die: A Novel                                    0.0     0.0     0.0  \n",
       "2nd Chance                                             0.0     0.0     0.0  \n",
       "A Bend in the Road                                     0.0     0.0     0.0  \n",
       "A Is for Alibi (Kinsey Millhone Mysteries (Pape...     0.0     0.0     0.0  \n",
       "A Map of the World                                     0.0     0.0     0.0  \n",
       "...                                                    ...     ...     ...  \n",
       "White Oleander : A Novel (Oprah's Book Club)           0.0     0.0     0.0  \n",
       "Wicked: The Life and Times of the Wicked Witch ...     0.0     0.0     0.0  \n",
       "Wild Animus                                            0.0     0.0     0.0  \n",
       "Wish You Well                                          0.0     0.0     0.0  \n",
       "\\O\\\" Is for Outlaw\"                                    0.0     0.0     0.0  \n",
       "\n",
       "[224 rows x 400 columns]"
      ]
     },
     "execution_count": 219,
     "metadata": {},
     "output_type": "execute_result"
    }
   ],
   "source": [
    "pt.fillna(0,inplace=True)\n",
    "pt"
   ]
  },
  {
   "cell_type": "code",
   "execution_count": 220,
   "id": "d1573903",
   "metadata": {},
   "outputs": [],
   "source": [
    "from sklearn.metrics.pairwise import cosine_similarity"
   ]
  },
  {
   "cell_type": "code",
   "execution_count": 221,
   "id": "b4a4e700",
   "metadata": {},
   "outputs": [],
   "source": [
    "similarity_scores = cosine_similarity(pt)"
   ]
  },
  {
   "cell_type": "code",
   "execution_count": 222,
   "id": "b9e04ff8",
   "metadata": {},
   "outputs": [
    {
     "data": {
      "text/plain": [
       "(224, 224)"
      ]
     },
     "execution_count": 222,
     "metadata": {},
     "output_type": "execute_result"
    }
   ],
   "source": [
    "similarity_scores.shape"
   ]
  },
  {
   "cell_type": "code",
   "execution_count": 224,
   "id": "3c7ab7e1",
   "metadata": {},
   "outputs": [],
   "source": [
    "def recommend(book_name):\n",
    "    # index fetch\n",
    "    index = np.where(pt.index==book_name)[0][0]\n",
    "    similar_items = sorted(list(enumerate(similarity_scores[index])),key=lambda x:x[1],reverse=True)[1:5]\n",
    "    data = []\n",
    "    for i in similar_items:\n",
    "        item = []\n",
    "        temp_df = books[books['book_title'] == pt.index[i[0]]]\n",
    "        item.extend(list(temp_df.drop_duplicates('book_title')['book_title'].values))\n",
    "        item.extend(list(temp_df.drop_duplicates('book_title')['book_author'].values))\n",
    "        item.extend(list(temp_df.drop_duplicates('book_title')['image_url_m'].values))\n",
    "        data.append(item)\n",
    "    return data"
   ]
  },
  {
   "cell_type": "code",
   "execution_count": 225,
   "id": "16167d0d",
   "metadata": {},
   "outputs": [
    {
     "data": {
      "text/plain": [
       "[['Dolores Claiborne',\n",
       "  'Stephen King',\n",
       "  'http://images.amazon.com/images/P/0451177096.01.MZZZZZZZ.jpg'],\n",
       " ['Hideaway',\n",
       "  'Dean R. Koontz',\n",
       "  'http://images.amazon.com/images/P/042513525X.01.MZZZZZZZ.jpg'],\n",
       " ['The Tommyknockers',\n",
       "  'Stephen King',\n",
       "  'http://images.amazon.com/images/P/0451156609.01.MZZZZZZZ.jpg'],\n",
       " ['1st to Die: A Novel',\n",
       "  'James Patterson',\n",
       "  'http://images.amazon.com/images/P/0446610038.01.MZZZZZZZ.jpg']]"
      ]
     },
     "execution_count": 225,
     "metadata": {},
     "output_type": "execute_result"
    }
   ],
   "source": [
    "recommend('Lightning')"
   ]
  },
  {
   "cell_type": "code",
   "execution_count": 226,
   "id": "45f8512c",
   "metadata": {},
   "outputs": [],
   "source": [
    "import pickle\n",
    "pickle.dump(popular_df,open('popular.pkl','wb'))\n",
    "pickle.dump(books,open('books.pkl','wb'))\n",
    "pickle.dump(pt,open('pt.pkl','wb'))\n",
    "pickle.dump(similarity_scores,open('similarity.pkl','wb'))"
   ]
  }
 ],
 "metadata": {
  "kernelspec": {
   "display_name": "Python 3 (ipykernel)",
   "language": "python",
   "name": "python3"
  },
  "language_info": {
   "codemirror_mode": {
    "name": "ipython",
    "version": 3
   },
   "file_extension": ".py",
   "mimetype": "text/x-python",
   "name": "python",
   "nbconvert_exporter": "python",
   "pygments_lexer": "ipython3",
   "version": "3.12.3"
  }
 },
 "nbformat": 4,
 "nbformat_minor": 5
}
